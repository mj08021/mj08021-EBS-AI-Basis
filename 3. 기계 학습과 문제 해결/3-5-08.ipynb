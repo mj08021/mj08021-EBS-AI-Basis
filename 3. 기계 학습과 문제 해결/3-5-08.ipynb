{
 "cells": [
  {
   "cell_type": "code",
   "execution_count": 1,
   "metadata": {},
   "outputs": [],
   "source": [
    "# AND 연산 함수\n",
    "def AND(x1,x2):\n",
    "    w1,w2,threshold = 0.2,0.2,0.3\n",
    "    temp = w1*x1 + w2*x2\n",
    "    if temp <= threshold:\n",
    "        return 0\n",
    "    elif temp > threshold:\n",
    "        return 1"
   ]
  },
  {
   "cell_type": "code",
   "execution_count": 2,
   "metadata": {},
   "outputs": [],
   "source": [
    "# OR 연산 함수\n",
    "def OR(x1,x2):\n",
    "    w1,w2,threshold = 0.3,0.3,0.2\n",
    "    temp = w1*x1 + w2*x2\n",
    "    if temp <= threshold:\n",
    "        return 0\n",
    "    elif temp > threshold:\n",
    "        return 1"
   ]
  },
  {
   "cell_type": "code",
   "execution_count": 3,
   "metadata": {},
   "outputs": [],
   "source": [
    "# NAND 연산 함수\n",
    "def NAND(x1,x2):\n",
    "    w1,w2,threshold = -0.2,-0.2,-0.3\n",
    "    temp = w1*x1 + w2*x2\n",
    "    if temp <= threshold:\n",
    "        return 0\n",
    "    elif temp > threshold:\n",
    "        return 1"
   ]
  },
  {
   "cell_type": "code",
   "execution_count": 4,
   "metadata": {},
   "outputs": [],
   "source": [
    "def XOR(x1,x2):\n",
    "    h1 = NAND(x1,x2)\n",
    "    h2 = OR(x1,x2)\n",
    "    y = AND(h1,h2)\n",
    "    return y"
   ]
  },
  {
   "cell_type": "code",
   "execution_count": 5,
   "metadata": {},
   "outputs": [
    {
     "name": "stdout",
     "output_type": "stream",
     "text": [
      "0\n",
      "1\n",
      "1\n",
      "0\n"
     ]
    }
   ],
   "source": [
    "print(XOR(0,0))\n",
    "print(XOR(0,1))\n",
    "print(XOR(1,0))\n",
    "print(XOR(1,1))"
   ]
  },
  {
   "cell_type": "code",
   "execution_count": null,
   "metadata": {},
   "outputs": [],
   "source": []
  }
 ],
 "metadata": {
  "kernelspec": {
   "display_name": "Python 3",
   "language": "python",
   "name": "python3"
  },
  "language_info": {
   "codemirror_mode": {
    "name": "ipython",
    "version": 3
   },
   "file_extension": ".py",
   "mimetype": "text/x-python",
   "name": "python",
   "nbconvert_exporter": "python",
   "pygments_lexer": "ipython3",
   "version": "3.8.5"
  }
 },
 "nbformat": 4,
 "nbformat_minor": 4
}
