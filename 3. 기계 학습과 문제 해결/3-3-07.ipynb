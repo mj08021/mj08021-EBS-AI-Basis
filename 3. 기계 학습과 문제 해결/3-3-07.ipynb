{
 "cells": [
  {
   "cell_type": "code",
   "execution_count": 1,
   "metadata": {},
   "outputs": [],
   "source": [
    "import csv"
   ]
  },
  {
   "cell_type": "code",
   "execution_count": 2,
   "metadata": {},
   "outputs": [],
   "source": [
    "f = open('temp_ice.csv', encoding = 'euc-kr')"
   ]
  },
  {
   "cell_type": "code",
   "execution_count": 3,
   "metadata": {},
   "outputs": [],
   "source": [
    "data = csv.reader(f)"
   ]
  },
  {
   "cell_type": "code",
   "execution_count": 4,
   "metadata": {},
   "outputs": [],
   "source": [
    "header = next(data)"
   ]
  },
  {
   "cell_type": "code",
   "execution_count": 5,
   "metadata": {},
   "outputs": [],
   "source": [
    "temp = []"
   ]
  },
  {
   "cell_type": "code",
   "execution_count": 6,
   "metadata": {},
   "outputs": [],
   "source": [
    "ice = []"
   ]
  },
  {
   "cell_type": "code",
   "execution_count": 7,
   "metadata": {},
   "outputs": [],
   "source": [
    "# 전체 데이터를 행별로 temp 리스트, ice 리스트에 저장 및 출력하기\n",
    "for row in data:\n",
    "    temp.append(float(row[1]))  # 행별로 평균 기온 데이터 저장하기\n",
    "    ice.append(int(row[4]))  # 행별로 아이스크림 쇼핑 클릭량 데이터 저장하기"
   ]
  },
  {
   "cell_type": "code",
   "execution_count": 8,
   "metadata": {},
   "outputs": [],
   "source": [
    "# 평균 기온 값을 기준으로 도수분포 구간 설정하기\n",
    "import numpy as np"
   ]
  },
  {
   "cell_type": "code",
   "execution_count": 9,
   "metadata": {},
   "outputs": [],
   "source": [
    "bins = np.arange(min(temp), max(temp)+5, 5)"
   ]
  },
  {
   "cell_type": "code",
   "execution_count": 10,
   "metadata": {},
   "outputs": [],
   "source": [
    "hist, bins = np.histogram(temp, bins)"
   ]
  },
  {
   "cell_type": "code",
   "execution_count": 11,
   "metadata": {},
   "outputs": [],
   "source": [
    "# 평균 기온 값을 기준으로 아이스크림 쇼핑 클릭량을 구분하여 저장하기\n",
    "ice_buy = np.zeros(7)"
   ]
  },
  {
   "cell_type": "code",
   "execution_count": 12,
   "metadata": {},
   "outputs": [],
   "source": [
    "for i in range(0, len(temp)):  # 평균 기온 데이터 전체 탐색하기\n",
    "    if bins[0] <= temp[i] and temp[i] < bins[1]:  # 첫 번째 계급에 해당한다면\n",
    "        ice_buy[0] = ice_buy[0] + ice[i]\n",
    "    elif bins[1] <= temp[i] and temp[i] < bins[2]:\n",
    "        ice_buy[1] = ice_buy[1] + ice[i]\n",
    "    elif bins[2] <= temp[i] and temp[i] < bins[3]:\n",
    "        ice_buy[2] = ice_buy[2] + ice[i]\n",
    "    elif bins[3] <= temp[i] and temp[i] < bins[4]:\n",
    "        ice_buy[3] = ice_buy[3] + ice[i]\n",
    "    elif bins[4] <= temp[i] and temp[i] < bins[5]:\n",
    "        ice_buy[4] = ice_buy[4] + ice[i]\n",
    "    elif bins[5] <= temp[i] and temp[i] < bins[6]:\n",
    "        ice_buy[5] = ice_buy[5] + ice[i]\n",
    "    else:\n",
    "        ice_buy[6] = ice_buy[6] + ice[i]"
   ]
  },
  {
   "cell_type": "code",
   "execution_count": 13,
   "metadata": {},
   "outputs": [],
   "source": [
    "# 평균 기온 값 계급별 아이스크림 쇼핑 클릭량의 평균 구하기\n",
    "ice_buy_a = np.zeros(7)"
   ]
  },
  {
   "cell_type": "code",
   "execution_count": 14,
   "metadata": {},
   "outputs": [],
   "source": [
    "for i in range(0, len(ice_buy)):\n",
    "    ice_buy_a[i] = ice_buy[i] / hist[i]"
   ]
  },
  {
   "cell_type": "code",
   "execution_count": 15,
   "metadata": {},
   "outputs": [
    {
     "name": "stdout",
     "output_type": "stream",
     "text": [
      "27.45\n",
      "28.29\n",
      "29.38\n",
      "33.31\n",
      "56.11\n",
      "54.21\n",
      "62.15\n"
     ]
    }
   ],
   "source": [
    "for i in range(0, len(ice_buy)):\n",
    "    print('%0.2f' % ice_buy_a[i])"
   ]
  },
  {
   "cell_type": "code",
   "execution_count": null,
   "metadata": {},
   "outputs": [],
   "source": []
  }
 ],
 "metadata": {
  "kernelspec": {
   "display_name": "Python 3",
   "language": "python",
   "name": "python3"
  },
  "language_info": {
   "codemirror_mode": {
    "name": "ipython",
    "version": 3
   },
   "file_extension": ".py",
   "mimetype": "text/x-python",
   "name": "python",
   "nbconvert_exporter": "python",
   "pygments_lexer": "ipython3",
   "version": "3.8.5"
  }
 },
 "nbformat": 4,
 "nbformat_minor": 4
}
