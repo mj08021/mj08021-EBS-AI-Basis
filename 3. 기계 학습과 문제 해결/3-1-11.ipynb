{
 "cells": [
  {
   "cell_type": "code",
   "execution_count": 1,
   "metadata": {},
   "outputs": [],
   "source": [
    "import pandas as pd"
   ]
  },
  {
   "cell_type": "code",
   "execution_count": 2,
   "metadata": {},
   "outputs": [],
   "source": [
    "fifa2019 = pd.read_csv('fifa2019.csv')"
   ]
  },
  {
   "cell_type": "code",
   "execution_count": 3,
   "metadata": {},
   "outputs": [],
   "source": [
    "df = pd.DataFrame.copy(fifa2019.sort_values(by = 'Overall', ascending = False).head(200))"
   ]
  },
  {
   "cell_type": "code",
   "execution_count": 4,
   "metadata": {},
   "outputs": [],
   "source": [
    "test_features = ['Name', 'Stamina', 'Dribbling', 'ShortPassing', 'Penalties']"
   ]
  },
  {
   "cell_type": "code",
   "execution_count": 5,
   "metadata": {},
   "outputs": [],
   "source": [
    "test_df = pd.DataFrame(df, columns = test_features)"
   ]
  },
  {
   "cell_type": "code",
   "execution_count": 6,
   "metadata": {},
   "outputs": [
    {
     "name": "stdout",
     "output_type": "stream",
     "text": [
      "                Name  Stamina  Dribbling  ShortPassing  Penalties\n",
      "0           L. Messi     72.0       97.0          90.0       75.0\n",
      "1  Cristiano Ronaldo     88.0       88.0          81.0       85.0\n",
      "2          Neymar Jr     81.0       96.0          84.0       81.0\n",
      "3             De Gea     43.0       18.0          50.0       40.0\n",
      "4       K. De Bruyne     90.0       86.0          92.0       79.0\n"
     ]
    }
   ],
   "source": [
    "print(test_df.head(5))"
   ]
  },
  {
   "cell_type": "code",
   "execution_count": null,
   "metadata": {},
   "outputs": [],
   "source": []
  }
 ],
 "metadata": {
  "kernelspec": {
   "display_name": "Python 3",
   "language": "python",
   "name": "python3"
  },
  "language_info": {
   "codemirror_mode": {
    "name": "ipython",
    "version": 3
   },
   "file_extension": ".py",
   "mimetype": "text/x-python",
   "name": "python",
   "nbconvert_exporter": "python",
   "pygments_lexer": "ipython3",
   "version": "3.8.5"
  }
 },
 "nbformat": 4,
 "nbformat_minor": 4
}
