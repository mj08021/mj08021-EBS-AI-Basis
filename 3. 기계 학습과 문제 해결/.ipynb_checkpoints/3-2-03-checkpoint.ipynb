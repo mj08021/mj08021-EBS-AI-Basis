{
 "cells": [
  {
   "cell_type": "code",
   "execution_count": 1,
   "metadata": {},
   "outputs": [],
   "source": [
    "import csv"
   ]
  },
  {
   "cell_type": "code",
   "execution_count": 2,
   "metadata": {},
   "outputs": [],
   "source": [
    "f = open('Iris.csv')"
   ]
  },
  {
   "cell_type": "code",
   "execution_count": 3,
   "metadata": {},
   "outputs": [],
   "source": [
    "data = csv.reader(f)"
   ]
  },
  {
   "cell_type": "code",
   "execution_count": 4,
   "metadata": {},
   "outputs": [],
   "source": [
    "header = next(data)  # 제목을 따로 저장하기 위한 명령"
   ]
  },
  {
   "cell_type": "code",
   "execution_count": 5,
   "metadata": {},
   "outputs": [],
   "source": [
    "result = []"
   ]
  },
  {
   "cell_type": "code",
   "execution_count": 6,
   "metadata": {},
   "outputs": [],
   "source": [
    "# 전체 데이터를 행별로 result 리스트에 저장하기\n",
    "for row in data:\n",
    "    result.append(row)"
   ]
  },
  {
   "cell_type": "code",
   "execution_count": 7,
   "metadata": {},
   "outputs": [],
   "source": [
    "# result에 저장된 값 중 꽃받침과 꽃잎의 길이, 너비 값을 숫자로 바꾼 후 출력하기\n",
    "for i in result:\n",
    "    for j in range(1,5):\n",
    "        i[j] = float(i[j])"
   ]
  },
  {
   "cell_type": "code",
   "execution_count": 8,
   "metadata": {},
   "outputs": [],
   "source": [
    "# 꽃 종류별 데이터 저장하기\n",
    "a = []  # Iris-setosa\n",
    "b = []  # Iris-versicolor\n",
    "c = []  # Iris-virginica"
   ]
  },
  {
   "cell_type": "code",
   "execution_count": 9,
   "metadata": {},
   "outputs": [],
   "source": [
    "for i in result:\n",
    "    if i[5] == 'Iris-setosa':\n",
    "        a.append(i[0:5])\n",
    "    if i[5] == 'Iris-versicolor':\n",
    "        b.append(i[0:5])\n",
    "    if i[5] == 'Iris-virginica':\n",
    "        c.append(i[0:5])"
   ]
  },
  {
   "cell_type": "code",
   "execution_count": 10,
   "metadata": {},
   "outputs": [],
   "source": [
    "# Iris-setosa의 꽃잎과 꽃받침의 길이, 너비에 따른 평균 구하기\n",
    "SL = []  # 꽃받침 길이(Sepal Length)를 저장할 리스트 만들기\n",
    "SW = []  # 꽃받침 너비(Sepal Width)를 저장할 리스트 만들기\n",
    "PL = []  # 꽃잎 길이(Petal Length)를 저장할 리스트 만들기\n",
    "PW = []  # 꽃잎 너비(Petal Width)를 저장할 리스트 만들기"
   ]
  },
  {
   "cell_type": "code",
   "execution_count": 11,
   "metadata": {},
   "outputs": [],
   "source": [
    "for i in a:\n",
    "    SL.append(i[1])\n",
    "    SW.append(i[2])\n",
    "    PL.append(i[3])\n",
    "    PW.append(i[4])"
   ]
  },
  {
   "cell_type": "code",
   "execution_count": 12,
   "metadata": {},
   "outputs": [
    {
     "name": "stdout",
     "output_type": "stream",
     "text": [
      "<Iris-setosa의 특성별 평균>\n",
      "꽃받침 길이 평균: 5.006 \n",
      "꽃받침 너비 평균: 3.418 \n",
      "꽃잎 길이 평균: 1.464 \n",
      "꽃잎 너비 평균: 0.244\n"
     ]
    }
   ],
   "source": [
    "print('<Iris-setosa의 특성별 평균>')\n",
    "print('꽃받침 길이 평균:', round(sum(SL)/len(SL),3), '\\n꽃받침 너비 평균:', round(sum(SW)/len(SW),3), '\\n꽃잎 길이 평균:', round(sum(PL)/len(PL),3), '\\n꽃잎 너비 평균:', round(sum(PW)/len(PW),3))"
   ]
  },
  {
   "cell_type": "code",
   "execution_count": null,
   "metadata": {},
   "outputs": [],
   "source": []
  }
 ],
 "metadata": {
  "kernelspec": {
   "display_name": "Python 3",
   "language": "python",
   "name": "python3"
  },
  "language_info": {
   "codemirror_mode": {
    "name": "ipython",
    "version": 3
   },
   "file_extension": ".py",
   "mimetype": "text/x-python",
   "name": "python",
   "nbconvert_exporter": "python",
   "pygments_lexer": "ipython3",
   "version": "3.8.5"
  }
 },
 "nbformat": 4,
 "nbformat_minor": 4
}
