{
 "cells": [
  {
   "cell_type": "code",
   "execution_count": 1,
   "metadata": {},
   "outputs": [],
   "source": [
    "import pandas as pd"
   ]
  },
  {
   "cell_type": "code",
   "execution_count": 2,
   "metadata": {},
   "outputs": [],
   "source": [
    "fifa2019 = pd.read_csv('fifa2019.csv')"
   ]
  },
  {
   "cell_type": "code",
   "execution_count": 3,
   "metadata": {},
   "outputs": [],
   "source": [
    "df = pd.DataFrame.copy(fifa2019.sort_values(by = 'Overall', ascending = False).head(200))"
   ]
  },
  {
   "cell_type": "code",
   "execution_count": 4,
   "metadata": {},
   "outputs": [],
   "source": [
    "test_features = ['Name', 'Stamina', 'Dribbling', 'ShortPassing', 'Penalties']"
   ]
  },
  {
   "cell_type": "code",
   "execution_count": 5,
   "metadata": {},
   "outputs": [],
   "source": [
    "test_df = pd.DataFrame(df, columns = test_features)"
   ]
  },
  {
   "cell_type": "code",
   "execution_count": 6,
   "metadata": {},
   "outputs": [],
   "source": [
    "# 체력(Stamina) & 드리블(Dribbling)\n",
    "import numpy as np\n",
    "XY = np.array(test_df)\n",
    "X = XY[:, 1:3]"
   ]
  },
  {
   "cell_type": "code",
   "execution_count": 7,
   "metadata": {},
   "outputs": [],
   "source": [
    "k = 3  # 분류하려는 군집의 개수가 3개이므로 k = 3"
   ]
  },
  {
   "cell_type": "code",
   "execution_count": 8,
   "metadata": {},
   "outputs": [],
   "source": [
    "C_x = np.random.choice(X[:,0], k)"
   ]
  },
  {
   "cell_type": "code",
   "execution_count": 9,
   "metadata": {},
   "outputs": [],
   "source": [
    "C_y = np.random.choice(X[:,1], k)"
   ]
  },
  {
   "cell_type": "code",
   "execution_count": 10,
   "metadata": {},
   "outputs": [],
   "source": [
    "C = np.array(list(zip(C_x, C_y)))"
   ]
  },
  {
   "cell_type": "code",
   "execution_count": 11,
   "metadata": {},
   "outputs": [],
   "source": [
    "# 유클리디안 거리 계산 함수 만들기\n",
    "def Distance(A,B):\n",
    "    return np.sqrt(np.sum(np.power((A-B), 2)))"
   ]
  },
  {
   "cell_type": "code",
   "execution_count": 12,
   "metadata": {},
   "outputs": [],
   "source": [
    "C_old = np.zeros(C.shape)  # 중심의 좌표를 업데이트하기 위해 동일한 크기의 행렬을 선언한다."
   ]
  },
  {
   "cell_type": "code",
   "execution_count": 13,
   "metadata": {},
   "outputs": [],
   "source": [
    "clusters = np.zeros(len(X))  # 모든 데이터의 클러스터 레이블을 저장하기 위해 행렬을 선언한다. "
   ]
  },
  {
   "cell_type": "code",
   "execution_count": 14,
   "metadata": {},
   "outputs": [],
   "source": [
    "flag = Distance(C, C_old)  # 중심좌표간의 거리 계산"
   ]
  },
  {
   "cell_type": "code",
   "execution_count": 15,
   "metadata": {},
   "outputs": [],
   "source": [
    "from copy import deepcopy"
   ]
  },
  {
   "cell_type": "code",
   "execution_count": 16,
   "metadata": {},
   "outputs": [],
   "source": [
    "distances = []"
   ]
  },
  {
   "cell_type": "code",
   "execution_count": null,
   "metadata": {},
   "outputs": [
    {
     "name": "stderr",
     "output_type": "stream",
     "text": [
      "c:\\users\\k\\appdata\\local\\programs\\python\\python38-32\\lib\\site-packages\\numpy\\core\\fromnumeric.py:3372: RuntimeWarning: Mean of empty slice.\n",
      "  return _methods._mean(a, axis=axis, dtype=dtype,\n",
      "c:\\users\\k\\appdata\\local\\programs\\python\\python38-32\\lib\\site-packages\\numpy\\core\\_methods.py:170: RuntimeWarning: invalid value encountered in double_scalars\n",
      "  ret = ret.dtype.type(ret / rcount)\n"
     ]
    }
   ],
   "source": [
    "while flag != 0:\n",
    "    for i in range(len(X)):\n",
    "        for j in range(3):\n",
    "            temp = Distance(X[i], C[j])\n",
    "            distances.append(temp)\n",
    "        cluster = np.argmin(distances)\n",
    "        clusters[i] = cluster\n",
    "        distances = []\n",
    "        \n",
    "    C_old = deepcopy(C)\n",
    "    \n",
    "    for i in range(k):\n",
    "        points = [X[j] for j in range(len(X)) if clusters[j] == i]\n",
    "        C[i] = np.mean(points)\n",
    "        \n",
    "    flag = Distance(C, C_old)"
   ]
  },
  {
   "cell_type": "code",
   "execution_count": null,
   "metadata": {},
   "outputs": [],
   "source": [
    "import matplotlib.pyplot as plt"
   ]
  },
  {
   "cell_type": "code",
   "execution_count": null,
   "metadata": {},
   "outputs": [],
   "source": [
    "# 1번 군집\n",
    "plt.scatter(X[clusters == 0, 0], X[clusters == 0, 1], s = 50, c = 'red', marker = 'o', edgecolor = 'black', label = 'A')\n",
    "\n",
    "# 2번 군집\n",
    "plt.scatter(X[clusters == 1, 0], X[clusters == 1, 1], s = 50, c = 'yellow', marker = 'x', edgecolor = 'black', label = 'B')\n",
    "\n",
    "# 3번 군집\n",
    "plt.scatter(X[clusters == 2, 0], X[clusters == 2, 1], s = 50, c = 'blue', marker = '^', edgecolor = 'black', label = 'C')\n",
    "\n",
    "# 군집의 중심 좌표들\n",
    "plt.scatter(C[:,0], C[:1], s = 250, marker = '*', c = 'black', edgecolor = 'black', label = 'Centroids')\n",
    "plt.legend()\n",
    "plt.grid()\n",
    "plt.show()"
   ]
  },
  {
   "cell_type": "code",
   "execution_count": null,
   "metadata": {},
   "outputs": [],
   "source": []
  }
 ],
 "metadata": {
  "kernelspec": {
   "display_name": "Python 3",
   "language": "python",
   "name": "python3"
  },
  "language_info": {
   "codemirror_mode": {
    "name": "ipython",
    "version": 3
   },
   "file_extension": ".py",
   "mimetype": "text/x-python",
   "name": "python",
   "nbconvert_exporter": "python",
   "pygments_lexer": "ipython3",
   "version": "3.8.5"
  }
 },
 "nbformat": 4,
 "nbformat_minor": 4
}
