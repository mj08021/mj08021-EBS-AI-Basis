{
 "cells": [
  {
   "cell_type": "code",
   "execution_count": 1,
   "metadata": {},
   "outputs": [],
   "source": [
    "import pandas as pd"
   ]
  },
  {
   "cell_type": "code",
   "execution_count": 2,
   "metadata": {},
   "outputs": [],
   "source": [
    "iris = pd.read_csv('Iris.csv')"
   ]
  },
  {
   "cell_type": "code",
   "execution_count": 3,
   "metadata": {},
   "outputs": [],
   "source": [
    "import numpy as np"
   ]
  },
  {
   "cell_type": "code",
   "execution_count": 4,
   "metadata": {},
   "outputs": [],
   "source": [
    "xy = np.array(iris)"
   ]
  },
  {
   "cell_type": "code",
   "execution_count": 5,
   "metadata": {},
   "outputs": [],
   "source": [
    "features = xy[:,1:-1]"
   ]
  },
  {
   "cell_type": "code",
   "execution_count": 6,
   "metadata": {},
   "outputs": [],
   "source": [
    "target_value = xy[:, [-1]]"
   ]
  },
  {
   "cell_type": "code",
   "execution_count": 7,
   "metadata": {},
   "outputs": [],
   "source": [
    "# Distance 함수 만들기\n",
    "def Distance(A,B):\n",
    "    return np.sqrt(np.sum(np.power((A-B),2)))"
   ]
  },
  {
   "cell_type": "code",
   "execution_count": 8,
   "metadata": {},
   "outputs": [],
   "source": [
    "def K_NN(Unknown, features, K):\n",
    "    distance_result = np.zeros(150)\n",
    "    for i in range(150):\n",
    "        distance_result[i] = Distance(Unknown, features[i])\n",
    "    index = distance_result.argsort()\n",
    "    target_result = []\n",
    "    result = [0, 0, 0]\n",
    "    for i in range(K):\n",
    "        target_result.append(target_value[index[i]])\n",
    "        if target_result[i] == 'Iris-setosa':\n",
    "            result[0] += 1\n",
    "        elif target_result[i] == 'Iris-versicolor':\n",
    "            result[1] += 1\n",
    "        else:\n",
    "            result[2] += 1\n",
    "        max_label = result.index(max(result))\n",
    "        species = {0:'setosa', 1:'versicolor', 2:'virginica'}\n",
    "        species_result = species[max_label]\n",
    "        return species_result"
   ]
  },
  {
   "cell_type": "code",
   "execution_count": 9,
   "metadata": {},
   "outputs": [],
   "source": [
    "test_1 = features[149]"
   ]
  },
  {
   "cell_type": "code",
   "execution_count": 10,
   "metadata": {},
   "outputs": [],
   "source": [
    "test_2 = np.array([6,2.9,5,2])"
   ]
  },
  {
   "cell_type": "code",
   "execution_count": 11,
   "metadata": {},
   "outputs": [],
   "source": [
    "result_1 = K_NN(test_1, features, 3)\n",
    "result_2 = K_NN(test_2, features, 3)"
   ]
  },
  {
   "cell_type": "code",
   "execution_count": 12,
   "metadata": {},
   "outputs": [
    {
     "name": "stdout",
     "output_type": "stream",
     "text": [
      "실제 데이터를 분류한 결과 : virginica\n",
      "가상 데이터를 분류한 결과 : virginica\n"
     ]
    }
   ],
   "source": [
    "print('실제 데이터를 분류한 결과 : {0}'.format(result_1))\n",
    "print('가상 데이터를 분류한 결과 : {0}'.format(result_2))"
   ]
  },
  {
   "cell_type": "code",
   "execution_count": null,
   "metadata": {},
   "outputs": [],
   "source": []
  }
 ],
 "metadata": {
  "kernelspec": {
   "display_name": "Python 3",
   "language": "python",
   "name": "python3"
  },
  "language_info": {
   "codemirror_mode": {
    "name": "ipython",
    "version": 3
   },
   "file_extension": ".py",
   "mimetype": "text/x-python",
   "name": "python",
   "nbconvert_exporter": "python",
   "pygments_lexer": "ipython3",
   "version": "3.8.5"
  }
 },
 "nbformat": 4,
 "nbformat_minor": 4
}
