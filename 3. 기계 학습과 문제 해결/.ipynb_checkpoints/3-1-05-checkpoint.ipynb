{
 "cells": [
  {
   "cell_type": "code",
   "execution_count": 1,
   "metadata": {},
   "outputs": [],
   "source": [
    "import pandas as pd"
   ]
  },
  {
   "cell_type": "code",
   "execution_count": 2,
   "metadata": {},
   "outputs": [],
   "source": [
    "fifa2019 = pd.read_csv('fifa2019.csv')  # fifa2019.csv 파일의 데이터 불러오기"
   ]
  },
  {
   "cell_type": "code",
   "execution_count": 3,
   "metadata": {},
   "outputs": [],
   "source": [
    "sub2 = fifa2019.loc[2:16]"
   ]
  },
  {
   "cell_type": "code",
   "execution_count": 4,
   "metadata": {},
   "outputs": [
    {
     "name": "stdout",
     "output_type": "stream",
     "text": [
      "    Unnamed: 0      ID            Name  Age  \\\n",
      "2            2  190871       Neymar Jr   26   \n",
      "3            3  193080          De Gea   27   \n",
      "4            4  192985    K. De Bruyne   27   \n",
      "5            5  183277       E. Hazard   27   \n",
      "6            6  177003       L. Modrić   32   \n",
      "7            7  176580       L. Suárez   31   \n",
      "8            8  155862    Sergio Ramos   32   \n",
      "9            9  200389        J. Oblak   25   \n",
      "10          10  188545  R. Lewandowski   29   \n",
      "11          11  182521        T. Kroos   28   \n",
      "12          12  182493        D. Godín   32   \n",
      "13          13  168542     David Silva   32   \n",
      "14          14  215914        N. Kanté   27   \n",
      "15          15  211110       P. Dybala   24   \n",
      "16          16  202126         H. Kane   24   \n",
      "\n",
      "                                             Photo Nationality  \\\n",
      "2   https://cdn.sofifa.org/players/4/19/190871.png      Brazil   \n",
      "3   https://cdn.sofifa.org/players/4/19/193080.png       Spain   \n",
      "4   https://cdn.sofifa.org/players/4/19/192985.png     Belgium   \n",
      "5   https://cdn.sofifa.org/players/4/19/183277.png     Belgium   \n",
      "6   https://cdn.sofifa.org/players/4/19/177003.png     Croatia   \n",
      "7   https://cdn.sofifa.org/players/4/19/176580.png     Uruguay   \n",
      "8   https://cdn.sofifa.org/players/4/19/155862.png       Spain   \n",
      "9   https://cdn.sofifa.org/players/4/19/200389.png    Slovenia   \n",
      "10  https://cdn.sofifa.org/players/4/19/188545.png      Poland   \n",
      "11  https://cdn.sofifa.org/players/4/19/182521.png     Germany   \n",
      "12  https://cdn.sofifa.org/players/4/19/182493.png     Uruguay   \n",
      "13  https://cdn.sofifa.org/players/4/19/168542.png       Spain   \n",
      "14  https://cdn.sofifa.org/players/4/19/215914.png      France   \n",
      "15  https://cdn.sofifa.org/players/4/19/211110.png   Argentina   \n",
      "16  https://cdn.sofifa.org/players/4/19/202126.png     England   \n",
      "\n",
      "                                   Flag  Overall  Potential  \\\n",
      "2   https://cdn.sofifa.org/flags/54.png       92         93   \n",
      "3   https://cdn.sofifa.org/flags/45.png       91         93   \n",
      "4    https://cdn.sofifa.org/flags/7.png       91         92   \n",
      "5    https://cdn.sofifa.org/flags/7.png       91         91   \n",
      "6   https://cdn.sofifa.org/flags/10.png       91         91   \n",
      "7   https://cdn.sofifa.org/flags/60.png       91         91   \n",
      "8   https://cdn.sofifa.org/flags/45.png       91         91   \n",
      "9   https://cdn.sofifa.org/flags/44.png       90         93   \n",
      "10  https://cdn.sofifa.org/flags/37.png       90         90   \n",
      "11  https://cdn.sofifa.org/flags/21.png       90         90   \n",
      "12  https://cdn.sofifa.org/flags/60.png       90         90   \n",
      "13  https://cdn.sofifa.org/flags/45.png       90         90   \n",
      "14  https://cdn.sofifa.org/flags/18.png       89         90   \n",
      "15  https://cdn.sofifa.org/flags/52.png       89         94   \n",
      "16  https://cdn.sofifa.org/flags/14.png       89         91   \n",
      "\n",
      "                   Club  ... Composure Marking StandingTackle  SlidingTackle  \\\n",
      "2   Paris Saint-Germain  ...      94.0    27.0           24.0           33.0   \n",
      "3     Manchester United  ...      68.0    15.0           21.0           13.0   \n",
      "4       Manchester City  ...      88.0    68.0           58.0           51.0   \n",
      "5               Chelsea  ...      91.0    34.0           27.0           22.0   \n",
      "6           Real Madrid  ...      84.0    60.0           76.0           73.0   \n",
      "7          FC Barcelona  ...      85.0    62.0           45.0           38.0   \n",
      "8           Real Madrid  ...      82.0    87.0           92.0           91.0   \n",
      "9       Atlético Madrid  ...      70.0    27.0           12.0           18.0   \n",
      "10    FC Bayern München  ...      86.0    34.0           42.0           19.0   \n",
      "11          Real Madrid  ...      85.0    72.0           79.0           69.0   \n",
      "12      Atlético Madrid  ...      82.0    90.0           89.0           89.0   \n",
      "13      Manchester City  ...      93.0    59.0           53.0           29.0   \n",
      "14              Chelsea  ...      85.0    90.0           91.0           85.0   \n",
      "15             Juventus  ...      84.0    23.0           20.0           20.0   \n",
      "16    Tottenham Hotspur  ...      89.0    56.0           36.0           38.0   \n",
      "\n",
      "   GKDiving  GKHandling  GKKicking  GKPositioning GKReflexes Release Clause  \n",
      "2       9.0         9.0       15.0           15.0       11.0        €228.1M  \n",
      "3      90.0        85.0       87.0           88.0       94.0        €138.6M  \n",
      "4      15.0        13.0        5.0           10.0       13.0        €196.4M  \n",
      "5      11.0        12.0        6.0            8.0        8.0        €172.1M  \n",
      "6      13.0         9.0        7.0           14.0        9.0        €137.4M  \n",
      "7      27.0        25.0       31.0           33.0       37.0          €164M  \n",
      "8      11.0         8.0        9.0            7.0       11.0        €104.6M  \n",
      "9      86.0        92.0       78.0           88.0       89.0        €144.5M  \n",
      "10     15.0         6.0       12.0            8.0       10.0        €127.1M  \n",
      "11     10.0        11.0       13.0            7.0       10.0        €156.8M  \n",
      "12      6.0         8.0       15.0            5.0       15.0         €90.2M  \n",
      "13      6.0        15.0        7.0            6.0       12.0          €111M  \n",
      "14     15.0        12.0       10.0            7.0       10.0        €121.3M  \n",
      "15      5.0         4.0        4.0            5.0        8.0        €153.5M  \n",
      "16      8.0        10.0       11.0           14.0       11.0        €160.7M  \n",
      "\n",
      "[15 rows x 89 columns]\n"
     ]
    }
   ],
   "source": [
    "print(sub2)"
   ]
  },
  {
   "cell_type": "code",
   "execution_count": null,
   "metadata": {},
   "outputs": [],
   "source": []
  }
 ],
 "metadata": {
  "kernelspec": {
   "display_name": "Python 3",
   "language": "python",
   "name": "python3"
  },
  "language_info": {
   "codemirror_mode": {
    "name": "ipython",
    "version": 3
   },
   "file_extension": ".py",
   "mimetype": "text/x-python",
   "name": "python",
   "nbconvert_exporter": "python",
   "pygments_lexer": "ipython3",
   "version": "3.8.5"
  }
 },
 "nbformat": 4,
 "nbformat_minor": 4
}
