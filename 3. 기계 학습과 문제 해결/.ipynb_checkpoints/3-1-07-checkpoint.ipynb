{
 "cells": [
  {
   "cell_type": "code",
   "execution_count": 1,
   "metadata": {},
   "outputs": [],
   "source": [
    "import pandas as pd"
   ]
  },
  {
   "cell_type": "code",
   "execution_count": 2,
   "metadata": {},
   "outputs": [],
   "source": [
    "fifa2019 = pd.read_csv('fifa2019.csv')  # fifa2019.csv 파일의 데이터 불러오기"
   ]
  },
  {
   "cell_type": "code",
   "execution_count": 3,
   "metadata": {},
   "outputs": [],
   "source": [
    "korea_player = fifa2019['Nationality'] == 'Korea Republic'  # 국적이 한국인 선수들의 행 값을 korda_player에 저장"
   ]
  },
  {
   "cell_type": "code",
   "execution_count": 4,
   "metadata": {},
   "outputs": [],
   "source": [
    "sub5 = fifa2019.loc[korea_player]"
   ]
  },
  {
   "cell_type": "code",
   "execution_count": 5,
   "metadata": {},
   "outputs": [
    {
     "name": "stdout",
     "output_type": "stream",
     "text": [
      "0        False\n",
      "1        False\n",
      "2        False\n",
      "3        False\n",
      "4        False\n",
      "         ...  \n",
      "18202    False\n",
      "18203    False\n",
      "18204    False\n",
      "18205    False\n",
      "18206    False\n",
      "Name: Nationality, Length: 18207, dtype: bool\n"
     ]
    }
   ],
   "source": [
    "print(korea_player)"
   ]
  },
  {
   "cell_type": "code",
   "execution_count": 6,
   "metadata": {},
   "outputs": [
    {
     "name": "stdout",
     "output_type": "stream",
     "text": [
      "       Unnamed: 0      ID             Name  Age  \\\n",
      "125           125  200104           H. Son   25   \n",
      "1295         1295  180283    Ki Sung Yueng   29   \n",
      "1407         1407  182152     Koo Ja Cheol   29   \n",
      "2002         2002  211927  Kwon Chang Hoon   24   \n",
      "2021         2021  221671     Lee Jae Sung   25   \n",
      "...           ...     ...              ...  ...   \n",
      "17955       17955  240272   Min Gyeong Min   22   \n",
      "17959       17959  245401     Lee Dong Hee   21   \n",
      "17965       17965  243359     Kim Jong Jin   19   \n",
      "18058       18058  244108  Hong Hyeon Seok   19   \n",
      "18084       18084  244411      Kwon Ki Pyo   21   \n",
      "\n",
      "                                                Photo     Nationality  \\\n",
      "125    https://cdn.sofifa.org/players/4/19/200104.png  Korea Republic   \n",
      "1295   https://cdn.sofifa.org/players/4/19/180283.png  Korea Republic   \n",
      "1407   https://cdn.sofifa.org/players/4/19/182152.png  Korea Republic   \n",
      "2002   https://cdn.sofifa.org/players/4/19/211927.png  Korea Republic   \n",
      "2021   https://cdn.sofifa.org/players/4/19/221671.png  Korea Republic   \n",
      "...                                               ...             ...   \n",
      "17955  https://cdn.sofifa.org/players/4/19/240272.png  Korea Republic   \n",
      "17959  https://cdn.sofifa.org/players/4/19/245401.png  Korea Republic   \n",
      "17965  https://cdn.sofifa.org/players/4/19/243359.png  Korea Republic   \n",
      "18058  https://cdn.sofifa.org/players/4/19/244108.png  Korea Republic   \n",
      "18084  https://cdn.sofifa.org/players/4/19/244411.png  Korea Republic   \n",
      "\n",
      "                                       Flag  Overall  Potential  \\\n",
      "125    https://cdn.sofifa.org/flags/167.png       84         85   \n",
      "1295   https://cdn.sofifa.org/flags/167.png       76         76   \n",
      "1407   https://cdn.sofifa.org/flags/167.png       76         76   \n",
      "2002   https://cdn.sofifa.org/flags/167.png       75         79   \n",
      "2021   https://cdn.sofifa.org/flags/167.png       75         78   \n",
      "...                                     ...      ...        ...   \n",
      "17955  https://cdn.sofifa.org/flags/167.png       51         59   \n",
      "17959  https://cdn.sofifa.org/flags/167.png       51         57   \n",
      "17965  https://cdn.sofifa.org/flags/167.png       51         64   \n",
      "18058  https://cdn.sofifa.org/flags/167.png       50         63   \n",
      "18084  https://cdn.sofifa.org/flags/167.png       50         59   \n",
      "\n",
      "                     Club  ... Composure Marking StandingTackle  \\\n",
      "125     Tottenham Hotspur  ...      82.0    48.0           34.0   \n",
      "1295     Newcastle United  ...      81.0    60.0           70.0   \n",
      "1407          FC Augsburg  ...      69.0    57.0           61.0   \n",
      "2002            Dijon FCO  ...      76.0    41.0           54.0   \n",
      "2021        Holstein Kiel  ...      79.0    49.0           54.0   \n",
      "...                   ...  ...       ...     ...            ...   \n",
      "17955            Daegu FC  ...      43.0    41.0           36.0   \n",
      "17959      Jeju United FC  ...      55.0    35.0           45.0   \n",
      "17965        Gyeongnam FC  ...      62.0    27.0           45.0   \n",
      "18058  SpVgg Unterhaching  ...      38.0    47.0           36.0   \n",
      "18084     Pohang Steelers  ...      47.0    46.0           17.0   \n",
      "\n",
      "       SlidingTackle GKDiving  GKHandling  GKKicking  GKPositioning  \\\n",
      "125             33.0     11.0        13.0       13.0            6.0   \n",
      "1295            71.0     14.0         9.0        7.0            9.0   \n",
      "1407            48.0     11.0        14.0       10.0           15.0   \n",
      "2002            53.0      7.0        16.0        9.0            8.0   \n",
      "2021            50.0     14.0         7.0       15.0            6.0   \n",
      "...              ...      ...         ...        ...            ...   \n",
      "17955           49.0     15.0         6.0        9.0            8.0   \n",
      "17959           45.0      9.0        12.0        7.0            5.0   \n",
      "17965           38.0     15.0        10.0       14.0           14.0   \n",
      "18058           39.0     13.0         9.0        7.0           13.0   \n",
      "18084           14.0     13.0         7.0       14.0           12.0   \n",
      "\n",
      "      GKReflexes Release Clause  \n",
      "125         10.0         €71.2M  \n",
      "1295        10.0         €14.3M  \n",
      "1407         9.0         €12.8M  \n",
      "2002         8.0         €17.6M  \n",
      "2021         8.0         €13.8M  \n",
      "...          ...            ...  \n",
      "17955       12.0           €73K  \n",
      "17959       12.0           €73K  \n",
      "17965       11.0          €131K  \n",
      "18058       10.0          €104K  \n",
      "18084        5.0           €73K  \n",
      "\n",
      "[335 rows x 89 columns]\n"
     ]
    }
   ],
   "source": [
    "print(sub5)"
   ]
  }
 ],
 "metadata": {
  "kernelspec": {
   "display_name": "Python 3",
   "language": "python",
   "name": "python3"
  },
  "language_info": {
   "codemirror_mode": {
    "name": "ipython",
    "version": 3
   },
   "file_extension": ".py",
   "mimetype": "text/x-python",
   "name": "python",
   "nbconvert_exporter": "python",
   "pygments_lexer": "ipython3",
   "version": "3.8.5"
  }
 },
 "nbformat": 4,
 "nbformat_minor": 4
}
