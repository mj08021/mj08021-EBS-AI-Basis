{
 "cells": [
  {
   "cell_type": "code",
   "execution_count": 1,
   "metadata": {},
   "outputs": [],
   "source": [
    "import pandas as pd"
   ]
  },
  {
   "cell_type": "code",
   "execution_count": 2,
   "metadata": {},
   "outputs": [],
   "source": [
    "df_train = pd.read_csv('fashion-mnist_train.csv')\n",
    "df_test = pd.read_csv('fashion-mnist_test.csv')"
   ]
  },
  {
   "cell_type": "code",
   "execution_count": 3,
   "metadata": {},
   "outputs": [],
   "source": [
    "import numpy as np"
   ]
  },
  {
   "cell_type": "code",
   "execution_count": 4,
   "metadata": {},
   "outputs": [],
   "source": [
    "# 데이터 프레임을 배열 형태로 저장하기\n",
    "data_train = np.array(df_train, dtype = np.float32)\n",
    "x_train = data_train[:,1:] # 훈련 데이터의 각 행별 픽셀 값 저장\n",
    "y_train = data_train[:,0] # 훈련 데이터의 각 행별 레이블 저장\n",
    "\n",
    "data_test = np.array(df_test) # 테스트 데이터를 배열로 저장\n",
    "x_test = data_test[:, 1:] # 테스트 데이터의 각 행별 픽셀 값 저장\n",
    "y_test = data_test[:, 0] # 테스트 데이터의 각 행별 레이블 저장"
   ]
  },
  {
   "cell_type": "code",
   "execution_count": 5,
   "metadata": {},
   "outputs": [],
   "source": [
    "import matplotlib.pyplot as plt"
   ]
  },
  {
   "cell_type": "code",
   "execution_count": 6,
   "metadata": {},
   "outputs": [],
   "source": [
    "# 의류 종류 레이블을 딕셔너리로 저장하기\n",
    "label_dictionary = {0:'T-shirt/top', 1:'Trouser', 2:'Pullover', 3:'Dress', 4:'Coat', 5:'Sanda', 6:'Shirt', 7:'Sneaker', 8:'Bag', 9:'Ankle boot'}"
   ]
  },
  {
   "cell_type": "code",
   "execution_count": 7,
   "metadata": {},
   "outputs": [
    {
     "data": {
      "image/png": "[encoded data removed]",
      "text/plain": [
       "<Figure size 432x288 with 2 Axes>"
      ]
     },
     "metadata": {
      "needs_background": "light"
     },
     "output_type": "display_data"
    }
   ],
   "source": [
    "# 훈련 데이터 중 1개 행 데이터 시각화\n",
    "i = 109\n",
    "plt.imshow(x_train[i].reshape(28,28), cmap = 'gray')\n",
    "plt.colorbar()\n",
    "plt.title('Label {}, {}'.format(y_train[i], label_dictionary[y_train[i]]))\n",
    "plt.show()"
   ]
  },
  {
   "cell_type": "code",
   "execution_count": null,
   "metadata": {},
   "outputs": [],
   "source": []
  }
 ],
 "metadata": {
  "kernelspec": {
   "display_name": "Python 3",
   "language": "python",
   "name": "python3"
  },
  "language_info": {
   "codemirror_mode": {
    "name": "ipython",
    "version": 3
   },
   "file_extension": ".py",
   "mimetype": "text/x-python",
   "name": "python",
   "nbconvert_exporter": "python",
   "pygments_lexer": "ipython3",
   "version": "3.8.5"
  }
 },
 "nbformat": 4,
 "nbformat_minor": 4
}
