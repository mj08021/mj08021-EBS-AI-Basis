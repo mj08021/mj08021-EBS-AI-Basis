{
 "cells": [
  {
   "cell_type": "code",
   "execution_count": 1,
   "metadata": {},
   "outputs": [],
   "source": [
    "import pandas as pd"
   ]
  },
  {
   "cell_type": "code",
   "execution_count": 2,
   "metadata": {},
   "outputs": [],
   "source": [
    "df_train = pd.read_csv('fashion-mnist_train.csv')\n",
    "df_test = pd.read_csv('fashion-mnist_test.csv')"
   ]
  },
  {
   "cell_type": "code",
   "execution_count": 3,
   "metadata": {},
   "outputs": [],
   "source": [
    "import numpy as np"
   ]
  },
  {
   "cell_type": "code",
   "execution_count": 4,
   "metadata": {},
   "outputs": [],
   "source": [
    "# 데이터 프레임을 배열 형태로 저장하기\n",
    "data_train = np.array(df_train, dtype = np.float32)\n",
    "x_train = data_train[:,1:] # 훈련 데이터의 각 행별 픽셀 값 저장\n",
    "y_train = data_train[:,0] # 훈련 데이터의 각 행별 레이블 저장\n",
    "\n",
    "data_test = np.array(df_test) # 테스트 데이터를 배열로 저장\n",
    "x_test = data_test[:, 1:] # 테스트 데이터의 각 행별 픽셀 값 저장\n",
    "y_test = data_test[:, 0] # 테스트 데이터의 각 행별 레이블 저장"
   ]
  },
  {
   "cell_type": "code",
   "execution_count": 5,
   "metadata": {},
   "outputs": [
    {
     "name": "stdout",
     "output_type": "stream",
     "text": [
      "      label  pixel1  pixel2  pixel3  pixel4  pixel5  pixel6  pixel7  pixel8  \\\n",
      "0         0       0       0       0       0       0       0       0       9   \n",
      "1         1       0       0       0       0       0       0       0       0   \n",
      "2         2       0       0       0       0       0       0      14      53   \n",
      "3         2       0       0       0       0       0       0       0       0   \n",
      "4         3       0       0       0       0       0       0       0       0   \n",
      "...     ...     ...     ...     ...     ...     ...     ...     ...     ...   \n",
      "9995      0       0       0       0       0       0       0       0       0   \n",
      "9996      6       0       0       0       0       0       0       0       0   \n",
      "9997      8       0       0       0       0       0       0       0       0   \n",
      "9998      8       0       1       3       0       0       0       0       0   \n",
      "9999      1       0       0       0       0       0       0       0     140   \n",
      "\n",
      "      pixel9  ...  pixel775  pixel776  pixel777  pixel778  pixel779  pixel780  \\\n",
      "0          8  ...       103        87        56         0         0         0   \n",
      "1          0  ...        34         0         0         0         0         0   \n",
      "2         99  ...         0         0         0         0        63        53   \n",
      "3          0  ...       137       126       140         0       133       224   \n",
      "4          0  ...         0         0         0         0         0         0   \n",
      "...      ...  ...       ...       ...       ...       ...       ...       ...   \n",
      "9995       0  ...        32        23        14        20         0         0   \n",
      "9996       0  ...         0         0         0         2        52        23   \n",
      "9997       0  ...       175       172       172       182       199       222   \n",
      "9998       0  ...         0         0         0         0         0         1   \n",
      "9999     119  ...       111        95        75        44         1         0   \n",
      "\n",
      "      pixel781  pixel782  pixel783  pixel784  \n",
      "0            0         0         0         0  \n",
      "1            0         0         0         0  \n",
      "2           31         0         0         0  \n",
      "3          222        56         0         0  \n",
      "4            0         0         0         0  \n",
      "...        ...       ...       ...       ...  \n",
      "9995         1         0         0         0  \n",
      "9996        28         0         0         0  \n",
      "9997        42         0         1         0  \n",
      "9998         0         0         0         0  \n",
      "9999         0         0         0         0  \n",
      "\n",
      "[10000 rows x 785 columns]\n",
      "[[0 0 0 ... 0 0 0]\n",
      " [1 0 0 ... 0 0 0]\n",
      " [2 0 0 ... 0 0 0]\n",
      " ...\n",
      " [8 0 0 ... 0 1 0]\n",
      " [8 0 1 ... 0 0 0]\n",
      " [1 0 0 ... 0 0 0]]\n"
     ]
    }
   ],
   "source": [
    "print(df_test)\n",
    "print(data_test)"
   ]
  }
 ],
 "metadata": {
  "kernelspec": {
   "display_name": "Python 3",
   "language": "python",
   "name": "python3"
  },
  "language_info": {
   "codemirror_mode": {
    "name": "ipython",
    "version": 3
   },
   "file_extension": ".py",
   "mimetype": "text/x-python",
   "name": "python",
   "nbconvert_exporter": "python",
   "pygments_lexer": "ipython3",
   "version": "3.8.5"
  }
 },
 "nbformat": 4,
 "nbformat_minor": 4
}
