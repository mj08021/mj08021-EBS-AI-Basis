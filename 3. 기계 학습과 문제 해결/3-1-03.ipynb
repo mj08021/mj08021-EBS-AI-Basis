{
 "cells": [
  {
   "cell_type": "code",
   "execution_count": 1,
   "metadata": {},
   "outputs": [],
   "source": [
    "import pandas as pd"
   ]
  },
  {
   "cell_type": "code",
   "execution_count": 2,
   "metadata": {},
   "outputs": [],
   "source": [
    "fifa2019 = pd.read_csv('fifa2019.csv')  # fifa2019.csv 파일의 데이터 불러오기"
   ]
  },
  {
   "cell_type": "code",
   "execution_count": 3,
   "metadata": {},
   "outputs": [],
   "source": [
    "sub1 = fifa2019.loc[14]"
   ]
  },
  {
   "cell_type": "code",
   "execution_count": 4,
   "metadata": {},
   "outputs": [
    {
     "name": "stdout",
     "output_type": "stream",
     "text": [
      "Unnamed: 0                                                    14\n",
      "ID                                                        215914\n",
      "Name                                                    N. Kanté\n",
      "Age                                                           27\n",
      "Photo             https://cdn.sofifa.org/players/4/19/215914.png\n",
      "                                       ...                      \n",
      "GKHandling                                                    12\n",
      "GKKicking                                                     10\n",
      "GKPositioning                                                  7\n",
      "GKReflexes                                                    10\n",
      "Release Clause                                           €121.3M\n",
      "Name: 14, Length: 89, dtype: object\n"
     ]
    }
   ],
   "source": [
    "print(sub1)"
   ]
  },
  {
   "cell_type": "code",
   "execution_count": null,
   "metadata": {},
   "outputs": [],
   "source": []
  }
 ],
 "metadata": {
  "kernelspec": {
   "display_name": "Python 3",
   "language": "python",
   "name": "python3"
  },
  "language_info": {
   "codemirror_mode": {
    "name": "ipython",
    "version": 3
   },
   "file_extension": ".py",
   "mimetype": "text/x-python",
   "name": "python",
   "nbconvert_exporter": "python",
   "pygments_lexer": "ipython3",
   "version": "3.8.5"
  }
 },
 "nbformat": 4,
 "nbformat_minor": 4
}
