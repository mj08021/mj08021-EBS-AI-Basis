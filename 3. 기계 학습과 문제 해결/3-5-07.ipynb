{
 "cells": [
  {
   "cell_type": "code",
   "execution_count": 1,
   "metadata": {},
   "outputs": [],
   "source": [
    "# NAND 연산 함수\n",
    "def NAND(x1,x2):\n",
    "    # 진리표에 알맞은 값으로 조정(AND의 역이므로 AND 파라미터에 -1을 곱함)\n",
    "    w1,w2,threshold = -0.2,-0.2,-0.3\n",
    "    temp = w1*x1 + w2*x2\n",
    "    if temp <= threshold:\n",
    "        return 0\n",
    "    elif temp > threshold:\n",
    "        return 1"
   ]
  },
  {
   "cell_type": "code",
   "execution_count": 2,
   "metadata": {},
   "outputs": [
    {
     "name": "stdout",
     "output_type": "stream",
     "text": [
      "1\n",
      "1\n",
      "1\n",
      "0\n"
     ]
    }
   ],
   "source": [
    "print(NAND(0,0))\n",
    "print(NAND(1,0))\n",
    "print(NAND(0,1))\n",
    "print(NAND(1,1))"
   ]
  },
  {
   "cell_type": "code",
   "execution_count": null,
   "metadata": {},
   "outputs": [],
   "source": []
  }
 ],
 "metadata": {
  "kernelspec": {
   "display_name": "Python 3",
   "language": "python",
   "name": "python3"
  },
  "language_info": {
   "codemirror_mode": {
    "name": "ipython",
    "version": 3
   },
   "file_extension": ".py",
   "mimetype": "text/x-python",
   "name": "python",
   "nbconvert_exporter": "python",
   "pygments_lexer": "ipython3",
   "version": "3.8.5"
  }
 },
 "nbformat": 4,
 "nbformat_minor": 4
}
