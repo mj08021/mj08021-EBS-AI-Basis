{
 "cells": [
  {
   "cell_type": "code",
   "execution_count": 1,
   "metadata": {},
   "outputs": [],
   "source": [
    "import pandas as pd"
   ]
  },
  {
   "cell_type": "code",
   "execution_count": 2,
   "metadata": {},
   "outputs": [],
   "source": [
    "fifa2019 = pd.read_csv('fifa2019.csv')  # fifa2019.csv 파일의 데이터 불러오기"
   ]
  },
  {
   "cell_type": "code",
   "execution_count": 3,
   "metadata": {},
   "outputs": [
    {
     "name": "stdout",
     "output_type": "stream",
     "text": [
      "<bound method DataFrame.info of        Unnamed: 0      ID                Name  Age  \\\n",
      "0               0  158023            L. Messi   31   \n",
      "1               1   20801   Cristiano Ronaldo   33   \n",
      "2               2  190871           Neymar Jr   26   \n",
      "3               3  193080              De Gea   27   \n",
      "4               4  192985        K. De Bruyne   27   \n",
      "...           ...     ...                 ...  ...   \n",
      "18202       18202  238813        J. Lundstram   19   \n",
      "18203       18203  243165  N. Christoffersson   19   \n",
      "18204       18204  241638           B. Worman   16   \n",
      "18205       18205  246268      D. Walker-Rice   17   \n",
      "18206       18206  246269           G. Nugent   16   \n",
      "\n",
      "                                                Photo Nationality  \\\n",
      "0      https://cdn.sofifa.org/players/4/19/158023.png   Argentina   \n",
      "1       https://cdn.sofifa.org/players/4/19/20801.png    Portugal   \n",
      "2      https://cdn.sofifa.org/players/4/19/190871.png      Brazil   \n",
      "3      https://cdn.sofifa.org/players/4/19/193080.png       Spain   \n",
      "4      https://cdn.sofifa.org/players/4/19/192985.png     Belgium   \n",
      "...                                               ...         ...   \n",
      "18202  https://cdn.sofifa.org/players/4/19/238813.png     England   \n",
      "18203  https://cdn.sofifa.org/players/4/19/243165.png      Sweden   \n",
      "18204  https://cdn.sofifa.org/players/4/19/241638.png     England   \n",
      "18205  https://cdn.sofifa.org/players/4/19/246268.png     England   \n",
      "18206  https://cdn.sofifa.org/players/4/19/246269.png     England   \n",
      "\n",
      "                                      Flag  Overall  Potential  \\\n",
      "0      https://cdn.sofifa.org/flags/52.png       94         94   \n",
      "1      https://cdn.sofifa.org/flags/38.png       94         94   \n",
      "2      https://cdn.sofifa.org/flags/54.png       92         93   \n",
      "3      https://cdn.sofifa.org/flags/45.png       91         93   \n",
      "4       https://cdn.sofifa.org/flags/7.png       91         92   \n",
      "...                                    ...      ...        ...   \n",
      "18202  https://cdn.sofifa.org/flags/14.png       47         65   \n",
      "18203  https://cdn.sofifa.org/flags/46.png       47         63   \n",
      "18204  https://cdn.sofifa.org/flags/14.png       47         67   \n",
      "18205  https://cdn.sofifa.org/flags/14.png       47         66   \n",
      "18206  https://cdn.sofifa.org/flags/14.png       46         66   \n",
      "\n",
      "                      Club  ... Composure Marking StandingTackle  \\\n",
      "0             FC Barcelona  ...      96.0    33.0           28.0   \n",
      "1                 Juventus  ...      95.0    28.0           31.0   \n",
      "2      Paris Saint-Germain  ...      94.0    27.0           24.0   \n",
      "3        Manchester United  ...      68.0    15.0           21.0   \n",
      "4          Manchester City  ...      88.0    68.0           58.0   \n",
      "...                    ...  ...       ...     ...            ...   \n",
      "18202      Crewe Alexandra  ...      45.0    40.0           48.0   \n",
      "18203       Trelleborgs FF  ...      42.0    22.0           15.0   \n",
      "18204     Cambridge United  ...      41.0    32.0           13.0   \n",
      "18205      Tranmere Rovers  ...      46.0    20.0           25.0   \n",
      "18206      Tranmere Rovers  ...      43.0    40.0           43.0   \n",
      "\n",
      "       SlidingTackle GKDiving  GKHandling  GKKicking  GKPositioning  \\\n",
      "0               26.0      6.0        11.0       15.0           14.0   \n",
      "1               23.0      7.0        11.0       15.0           14.0   \n",
      "2               33.0      9.0         9.0       15.0           15.0   \n",
      "3               13.0     90.0        85.0       87.0           88.0   \n",
      "4               51.0     15.0        13.0        5.0           10.0   \n",
      "...              ...      ...         ...        ...            ...   \n",
      "18202           47.0     10.0        13.0        7.0            8.0   \n",
      "18203           19.0     10.0         9.0        9.0            5.0   \n",
      "18204           11.0      6.0         5.0       10.0            6.0   \n",
      "18205           27.0     14.0         6.0       14.0            8.0   \n",
      "18206           50.0     10.0        15.0        9.0           12.0   \n",
      "\n",
      "      GKReflexes Release Clause  \n",
      "0            8.0        €226.5M  \n",
      "1           11.0        €127.1M  \n",
      "2           11.0        €228.1M  \n",
      "3           94.0        €138.6M  \n",
      "4           13.0        €196.4M  \n",
      "...          ...            ...  \n",
      "18202        9.0          €143K  \n",
      "18203       12.0          €113K  \n",
      "18204       13.0          €165K  \n",
      "18205        9.0          €143K  \n",
      "18206        9.0          €165K  \n",
      "\n",
      "[18207 rows x 89 columns]>\n"
     ]
    }
   ],
   "source": [
    "print(fifa2019.info)"
   ]
  },
  {
   "cell_type": "code",
   "execution_count": null,
   "metadata": {},
   "outputs": [],
   "source": []
  }
 ],
 "metadata": {
  "kernelspec": {
   "display_name": "Python 3",
   "language": "python",
   "name": "python3"
  },
  "language_info": {
   "codemirror_mode": {
    "name": "ipython",
    "version": 3
   },
   "file_extension": ".py",
   "mimetype": "text/x-python",
   "name": "python",
   "nbconvert_exporter": "python",
   "pygments_lexer": "ipython3",
   "version": "3.8.5"
  }
 },
 "nbformat": 4,
 "nbformat_minor": 4
}
