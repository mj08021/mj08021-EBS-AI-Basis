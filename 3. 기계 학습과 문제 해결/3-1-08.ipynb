{
 "cells": [
  {
   "cell_type": "code",
   "execution_count": 1,
   "metadata": {},
   "outputs": [],
   "source": [
    "import pandas as pd"
   ]
  },
  {
   "cell_type": "code",
   "execution_count": 2,
   "metadata": {},
   "outputs": [],
   "source": [
    "fifa2019 = pd.read_csv('fifa2019.csv')  # fifa2019.csv 파일의 데이터 불러오기"
   ]
  },
  {
   "cell_type": "code",
   "execution_count": 3,
   "metadata": {},
   "outputs": [],
   "source": [
    "korea_player = fifa2019['Nationality'] == 'Korea Republic'  # 국적이 한국인 선수들의 행 값을 korda_player에 저장"
   ]
  },
  {
   "cell_type": "code",
   "execution_count": 4,
   "metadata": {},
   "outputs": [],
   "source": [
    "sub5 = fifa2019.loc[korea_player]"
   ]
  },
  {
   "cell_type": "code",
   "execution_count": 5,
   "metadata": {},
   "outputs": [],
   "source": [
    "sub6 = sub5['Name']"
   ]
  },
  {
   "cell_type": "code",
   "execution_count": 6,
   "metadata": {},
   "outputs": [
    {
     "name": "stdout",
     "output_type": "stream",
     "text": [
      "125               H. Son\n",
      "1295       Ki Sung Yueng\n",
      "1407        Koo Ja Cheol\n",
      "2002     Kwon Chang Hoon\n",
      "2021        Lee Jae Sung\n",
      "              ...       \n",
      "17955     Min Gyeong Min\n",
      "17959       Lee Dong Hee\n",
      "17965       Kim Jong Jin\n",
      "18058    Hong Hyeon Seok\n",
      "18084        Kwon Ki Pyo\n",
      "Name: Name, Length: 335, dtype: object\n"
     ]
    }
   ],
   "source": [
    "print(sub6)"
   ]
  },
  {
   "cell_type": "code",
   "execution_count": null,
   "metadata": {},
   "outputs": [],
   "source": []
  }
 ],
 "metadata": {
  "kernelspec": {
   "display_name": "Python 3",
   "language": "python",
   "name": "python3"
  },
  "language_info": {
   "codemirror_mode": {
    "name": "ipython",
    "version": 3
   },
   "file_extension": ".py",
   "mimetype": "text/x-python",
   "name": "python",
   "nbconvert_exporter": "python",
   "pygments_lexer": "ipython3",
   "version": "3.8.5"
  }
 },
 "nbformat": 4,
 "nbformat_minor": 4
}
