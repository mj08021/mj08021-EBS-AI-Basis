{
 "cells": [
  {
   "cell_type": "code",
   "execution_count": 1,
   "metadata": {},
   "outputs": [],
   "source": [
    "import pandas as pd"
   ]
  },
  {
   "cell_type": "code",
   "execution_count": 2,
   "metadata": {},
   "outputs": [],
   "source": [
    "fifa2019 = pd.read_csv('fifa2019.csv')  # fifa2019.csv 파일의 데이터 불러오기"
   ]
  },
  {
   "cell_type": "code",
   "execution_count": 3,
   "metadata": {},
   "outputs": [],
   "source": [
    "sub3 = fifa2019.loc[:, ['Name', 'Preferred Foot']]"
   ]
  },
  {
   "cell_type": "code",
   "execution_count": 4,
   "metadata": {},
   "outputs": [
    {
     "name": "stdout",
     "output_type": "stream",
     "text": [
      "                     Name Preferred Foot\n",
      "0                L. Messi           Left\n",
      "1       Cristiano Ronaldo          Right\n",
      "2               Neymar Jr          Right\n",
      "3                  De Gea          Right\n",
      "4            K. De Bruyne          Right\n",
      "...                   ...            ...\n",
      "18202        J. Lundstram          Right\n",
      "18203  N. Christoffersson          Right\n",
      "18204           B. Worman          Right\n",
      "18205      D. Walker-Rice          Right\n",
      "18206           G. Nugent          Right\n",
      "\n",
      "[18207 rows x 2 columns]\n"
     ]
    }
   ],
   "source": [
    "print(sub3)"
   ]
  },
  {
   "cell_type": "code",
   "execution_count": null,
   "metadata": {},
   "outputs": [],
   "source": []
  }
 ],
 "metadata": {
  "kernelspec": {
   "display_name": "Python 3",
   "language": "python",
   "name": "python3"
  },
  "language_info": {
   "codemirror_mode": {
    "name": "ipython",
    "version": 3
   },
   "file_extension": ".py",
   "mimetype": "text/x-python",
   "name": "python",
   "nbconvert_exporter": "python",
   "pygments_lexer": "ipython3",
   "version": "3.8.5"
  }
 },
 "nbformat": 4,
 "nbformat_minor": 4
}
