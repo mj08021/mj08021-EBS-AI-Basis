{
 "cells": [
  {
   "cell_type": "code",
   "execution_count": 1,
   "metadata": {},
   "outputs": [],
   "source": [
    "# 소리 파일을 다루기 위해 필요한 모듈\n",
    "import numpy as np  # 행렬 및 벡터 데이터 관리를 위한 numpy 모듈\n",
    "import matplotlib.pyplot as plt  # 소리 데이터의 그래프 표현을 위한 모듈\n",
    "\n",
    "import scipy.io.wavfile  # 소리 파일을 읽어 1초당 샘플링한 횟수인 샘플링 주파수와 샘플링 시점의 진폭 데이터를 1차원 행렬로 반환\n",
    "import sounddevice as sd  # 소리 데이터를 실제 스피커로 출력하기 위한 사운드 장치 모듈"
   ]
  },
  {
   "cell_type": "code",
   "execution_count": 2,
   "metadata": {},
   "outputs": [
    {
     "name": "stderr",
     "output_type": "stream",
     "text": [
      "<ipython-input-2-1008e472c0b4>:2: WavFileWarning: Chunk (non-data) not understood, skipping it.\n",
      "  v_samplerate, v_data = scipy.io.wavfile.read('sample.wav')\n"
     ]
    }
   ],
   "source": [
    "# 작업 폴더에 저장된 'sample.wav' 파일 읽기\n",
    "v_samplerate, v_data = scipy.io.wavfile.read('sample.wav')\n",
    "times = np.arange(len(v_data)) / float(v_samplerate)  # x축 시간 정보 구하기"
   ]
  },
  {
   "cell_type": "code",
   "execution_count": 3,
   "metadata": {},
   "outputs": [
    {
     "name": "stdout",
     "output_type": "stream",
     "text": [
      "sampling rate:  44100\n"
     ]
    }
   ],
   "source": [
    "print('sampling rate: ', v_samplerate)  # wav 파일의 샘플링 주파수 출력"
   ]
  },
  {
   "cell_type": "code",
   "execution_count": 4,
   "metadata": {},
   "outputs": [
    {
     "name": "stdout",
     "output_type": "stream",
     "text": [
      "time:  58.99356009070295\n"
     ]
    }
   ],
   "source": [
    "print('time: ', times[-1])  # 소리의 재생 시간을 출력(time[]의 마지막 성분의 값)"
   ]
  },
  {
   "cell_type": "code",
   "execution_count": 5,
   "metadata": {},
   "outputs": [
    {
     "name": "stdout",
     "output_type": "stream",
     "text": [
      "vData:  [[ -22  143]\n",
      " [ -70  126]\n",
      " [-109  100]\n",
      " [-113   79]\n",
      " [ -99   55]\n",
      " [ -57   36]\n",
      " [ -19   15]\n",
      " [  27  -15]\n",
      " [  51  -30]\n",
      " [  55  -44]\n",
      " [  29  -41]\n",
      " [   4  -33]\n",
      " [ -17   20]\n",
      " [ -41   62]\n",
      " [ -48  121]\n",
      " [ -61  146]\n",
      " [ -74  161]\n",
      " [ -92  148]\n",
      " [-104  129]\n",
      " [-113   96]\n",
      " [-118   67]\n",
      " [-139   31]\n",
      " [-182  -27]\n",
      " [-229  -72]\n",
      " [-256 -125]\n",
      " [-240 -134]\n",
      " [-156 -127]\n",
      " [ -43  -95]\n",
      " [  78  -73]\n",
      " [ 163  -70]\n",
      " [ 193  -89]\n",
      " [ 185 -140]\n",
      " [ 111 -182]\n",
      " [  15 -251]\n",
      " [-107 -301]\n",
      " [-186 -350]\n",
      " [-208 -338]\n",
      " [-184 -292]\n",
      " [-104 -199]\n",
      " [ -26 -101]\n",
      " [  49   -6]\n",
      " [  67   53]\n",
      " [  35   74]\n",
      " [ -48   56]\n",
      " [-138    6]\n",
      " [-228  -58]\n",
      " [-266 -125]\n",
      " [-258 -183]\n",
      " [-211 -230]\n",
      " [-176 -260]\n",
      " [-151 -253]\n",
      " [-149 -228]\n",
      " [-139 -162]\n",
      " [ -91  -83]\n",
      " [ -36    5]\n",
      " [  36   83]\n",
      " [  64  144]\n",
      " [  72  181]\n",
      " [  15  196]\n",
      " [ -84  199]\n",
      " [-213  202]\n",
      " [-334  205]\n",
      " [-426  201]\n",
      " [-455  196]\n",
      " [-414  189]\n",
      " [-300  196]\n",
      " [-150  212]\n",
      " [   2  228]\n",
      " [ 105  257]\n",
      " [ 162  260]\n",
      " [ 164  244]\n",
      " [ 134  203]\n",
      " [  95  140]\n",
      " [  71   93]\n",
      " [  68   36]\n",
      " [  81  -16]\n",
      " [  92  -49]\n",
      " [ 128  -49]\n",
      " [ 167  -14]\n",
      " [ 218   54]\n",
      " [ 244  126]\n",
      " [ 261  186]\n",
      " [ 245  206]\n",
      " [ 221  188]\n",
      " [ 194  139]\n",
      " [ 182   81]\n",
      " [ 193   34]\n",
      " [ 209  -11]\n",
      " [ 221  -29]\n",
      " [ 216  -65]\n",
      " [ 197  -81]\n",
      " [ 180 -107]\n",
      " [ 161 -117]\n",
      " [ 166 -120]\n",
      " [ 191  -75]\n",
      " [ 220  -12]\n",
      " [ 257   65]\n",
      " [ 273  131]\n",
      " [ 294  165]\n",
      " [ 298  162]]\n"
     ]
    }
   ],
   "source": [
    "print('vData: ', v_data[5000:5100])  # 5,000번째 샘플링 데이터부터 100개를 출력"
   ]
  },
  {
   "cell_type": "code",
   "execution_count": 6,
   "metadata": {},
   "outputs": [],
   "source": [
    "sd.play(v_data, v_samplerate)  # 읽어 들인 wav 파일을 사운드 장치로 출력"
   ]
  },
  {
   "cell_type": "code",
   "execution_count": 7,
   "metadata": {},
   "outputs": [
    {
     "data": {
      "image/png": "[encoded data removed]",
      "text/plain": [
       "<Figure size 432x288 with 1 Axes>"
      ]
     },
     "metadata": {
      "needs_background": "light"
     },
     "output_type": "display_data"
    }
   ],
   "source": [
    "# wav 형식의 소리 데이터를 그래프로 출력(x축:소요 시간, y축:소리의 높낮이 진폭값)\n",
    "plt.plot(times, v_data)\n",
    "plt.xlim(times[0], times[-1])\n",
    "plt.xlabel('times (s)')\n",
    "plt.ylabel('amplitude')\n",
    "plt.show()"
   ]
  },
  {
   "cell_type": "code",
   "execution_count": null,
   "metadata": {},
   "outputs": [],
   "source": []
  }
 ],
 "metadata": {
  "kernelspec": {
   "display_name": "Python 3",
   "language": "python",
   "name": "python3"
  },
  "language_info": {
   "codemirror_mode": {
    "name": "ipython",
    "version": 3
   },
   "file_extension": ".py",
   "mimetype": "text/x-python",
   "name": "python",
   "nbconvert_exporter": "python",
   "pygments_lexer": "ipython3",
   "version": "3.8.5"
  }
 },
 "nbformat": 4,
 "nbformat_minor": 4
}
