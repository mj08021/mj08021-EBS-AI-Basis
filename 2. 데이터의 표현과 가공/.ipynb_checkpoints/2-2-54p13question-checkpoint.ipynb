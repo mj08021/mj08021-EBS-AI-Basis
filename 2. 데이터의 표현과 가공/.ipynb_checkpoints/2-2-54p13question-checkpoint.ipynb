{
 "cells": [
  {
   "cell_type": "code",
   "execution_count": 1,
   "metadata": {},
   "outputs": [],
   "source": [
    "# 두 삼차정사각행렬 A와 B 선언\n",
    "A = [[0,0,0], [0,0,0], [0,0,0]]\n",
    "B = [[0,0,0], [0,0,0], [0,0,0]]"
   ]
  },
  {
   "cell_type": "code",
   "execution_count": 2,
   "metadata": {},
   "outputs": [],
   "source": [
    "# 답을 저장할 삼차정사각행렬 C 선언\n",
    "C = [[0,0,0], [0,0,0], [0,0,0]]"
   ]
  },
  {
   "cell_type": "code",
   "execution_count": 3,
   "metadata": {},
   "outputs": [],
   "source": [
    "# 행렬 A와 B의 각 성분값 구하기\n",
    "for i in range(0,3):\n",
    "    for j in range(0,3):\n",
    "        A[i][j] = (i*i) + (j*j)\n",
    "        B[i][j] = i*j"
   ]
  },
  {
   "cell_type": "code",
   "execution_count": 4,
   "metadata": {},
   "outputs": [
    {
     "name": "stdout",
     "output_type": "stream",
     "text": [
      "[[0, 1, 4], [1, 2, 5], [4, 5, 8]]\n",
      "[[0, 0, 0], [0, 1, 2], [0, 2, 4]]\n"
     ]
    }
   ],
   "source": [
    "print(A)\n",
    "print(B)"
   ]
  },
  {
   "cell_type": "code",
   "execution_count": 5,
   "metadata": {},
   "outputs": [],
   "source": [
    "# 행렬 C의 각 성분값을 A행렬과 B행렬의 연산으로 구하기\n",
    "for i in range(0,3):\n",
    "    for j in range(0,3):\n",
    "        C[i][j] = A[i][j] - 2 * B[i][j]"
   ]
  },
  {
   "cell_type": "code",
   "execution_count": 6,
   "metadata": {},
   "outputs": [
    {
     "name": "stdout",
     "output_type": "stream",
     "text": [
      "[[0, 1, 4], [1, 0, 1], [4, 1, 0]]\n"
     ]
    }
   ],
   "source": [
    "print(C)"
   ]
  },
  {
   "cell_type": "code",
   "execution_count": null,
   "metadata": {},
   "outputs": [],
   "source": []
  }
 ],
 "metadata": {
  "kernelspec": {
   "display_name": "Python 3",
   "language": "python",
   "name": "python3"
  },
  "language_info": {
   "codemirror_mode": {
    "name": "ipython",
    "version": 3
   },
   "file_extension": ".py",
   "mimetype": "text/x-python",
   "name": "python",
   "nbconvert_exporter": "python",
   "pygments_lexer": "ipython3",
   "version": "3.8.5"
  }
 },
 "nbformat": 4,
 "nbformat_minor": 4
}
