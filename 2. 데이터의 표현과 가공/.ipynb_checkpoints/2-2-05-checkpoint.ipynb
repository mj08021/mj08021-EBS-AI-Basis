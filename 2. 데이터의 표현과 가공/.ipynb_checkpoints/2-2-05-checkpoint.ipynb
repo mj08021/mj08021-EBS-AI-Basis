{
 "cells": [
  {
   "cell_type": "code",
   "execution_count": 1,
   "metadata": {},
   "outputs": [],
   "source": [
    "#외부 모듈 선언\n",
    "import turtle  #그래픽 처리를 위한 모듈 선언\n",
    "import numpy as np  #벡터, 행렬 데이터를 쉽게 처리하기 위한 모듈 선언"
   ]
  },
  {
   "cell_type": "code",
   "execution_count": 2,
   "metadata": {},
   "outputs": [],
   "source": [
    "pixelSize = 10  #pixel 사이즈의 반지름"
   ]
  },
  {
   "cell_type": "code",
   "execution_count": 3,
   "metadata": {},
   "outputs": [],
   "source": [
    "turtle.speed(0)  #최고속도"
   ]
  },
  {
   "cell_type": "code",
   "execution_count": 4,
   "metadata": {},
   "outputs": [],
   "source": [
    "def putPixel(x, y, pSize, pCol):\n",
    "    turtle.penup()  #좌표 이동을 위해 펜기능을 비활성화\n",
    "    turtle.goto(x*pSize, (-1)*y*pSize)  #주어진 좌표로 이동\n",
    "    turtle.pendown()  #펜기능을 다시 활성화\n",
    "    turtle.begin_fill()  #다각형을 그릴 때 내부를 채우기\n",
    "    turtle.fillcolor(pCol)  #다각형의 채움색 결정하기\n",
    "    turtle.setheading(45)  #시작 각도를 45도로 지정\n",
    "    turtle.circle(pSize/2, steps = 4)  #정사각형 픽셀 도출하기\n",
    "    turtle.end_fill()  #채우기 끝    "
   ]
  },
  {
   "cell_type": "code",
   "execution_count": 5,
   "metadata": {},
   "outputs": [],
   "source": [
    "faceImg = np.array(\n",
    "    [[0,0,0,0,0,0,0,0,0,0,0,0,0,0,0,0]\n",
    "    ,[0,0,0,0,0,0,0,0,0,0,0,0,0,0,0,0]\n",
    "    ,[0,0,0,0,0,0,1,1,1,1,0,0,0,0,0,0]\n",
    "    ,[0,0,0,0,1,1,1,1,1,1,1,1,0,0,0,0]\n",
    "    ,[0,0,0,1,1,1,1,1,1,1,1,1,1,0,0,0]\n",
    "    ,[0,0,0,1,1,1,1,1,1,1,1,1,1,0,0,0]\n",
    "    ,[0,0,1,1,1,1,1,1,1,1,1,1,1,1,0,0]\n",
    "    ,[0,0,1,1,1,1,1,1,1,1,1,1,1,1,0,0]\n",
    "    ,[0,0,1,1,1,1,1,1,1,1,1,1,1,1,0,0]\n",
    "    ,[0,0,1,1,1,1,1,1,1,1,1,1,1,1,0,0]\n",
    "    ,[0,0,1,1,1,1,1,1,1,1,1,1,1,1,0,0]\n",
    "    ,[0,0,0,1,1,1,1,1,1,1,1,1,1,0,0,0]\n",
    "    ,[0,0,0,0,1,1,1,1,1,1,1,1,0,0,0,0]\n",
    "    ,[0,0,0,0,0,1,1,1,1,1,1,0,0,0,0,0]\n",
    "    ,[0,0,0,0,0,0,0,1,1,0,0,0,0,0,0,0]\n",
    "    ,[0,0,0,0,0,0,0,0,0,0,0,0,0,0,0,0]\n",
    "    ])"
   ]
  },
  {
   "cell_type": "code",
   "execution_count": 6,
   "metadata": {},
   "outputs": [],
   "source": [
    "smileImg = np.array(\n",
    "    [[0,0,0,0,0,0,0,0,0,0,0,0,0,0,0,0]\n",
    "    ,[0,0,0,0,0,0,0,0,0,0,0,0,0,0,0,0]\n",
    "    ,[0,0,0,0,0,0,0,0,0,0,0,0,0,0,0,0]\n",
    "    ,[0,0,0,0,0,0,0,0,0,0,0,0,0,0,0,0]\n",
    "    ,[0,0,0,0,0,0,0,0,0,0,0,0,0,0,0,0]\n",
    "    ,[0,0,0,0,0,2,2,0,0,2,2,0,0,0,0,0]\n",
    "    ,[0,0,0,0,2,0,2,0,2,0,2,0,0,0,0,0]\n",
    "    ,[0,0,0,0,2,2,2,0,2,2,2,0,0,0,0,0]\n",
    "    ,[0,0,0,0,0,0,0,0,0,0,0,0,0,0,0,0]\n",
    "    ,[0,0,0,0,2,0,0,0,0,0,0,2,0,0,0,0]\n",
    "    ,[0,0,0,0,2,2,0,0,0,0,2,2,0,0,0,0]\n",
    "    ,[0,0,0,0,0,2,2,2,2,2,2,0,0,0,0,0]\n",
    "    ,[0,0,0,0,0,0,2,2,2,2,0,0,0,0,0,0]\n",
    "    ,[0,0,0,0,0,0,0,0,0,0,0,0,0,0,0,0]\n",
    "    ,[0,0,0,0,0,0,0,0,0,0,0,0,0,0,0,0]\n",
    "    ,[0,0,0,0,0,0,0,0,0,0,0,0,0,0,0,0]\n",
    "    ])"
   ]
  },
  {
   "cell_type": "code",
   "execution_count": 7,
   "metadata": {},
   "outputs": [],
   "source": [
    "diffImage = np.array(faceImg - smileImg)  #faceImg 행렬과 smileImg 행렬의 차"
   ]
  },
  {
   "cell_type": "code",
   "execution_count": 8,
   "metadata": {},
   "outputs": [
    {
     "name": "stdout",
     "output_type": "stream",
     "text": [
      "[[ 0  0  0  0  0  0  0  0  0  0  0  0  0  0  0  0]\n",
      " [ 0  0  0  0  0  0  0  0  0  0  0  0  0  0  0  0]\n",
      " [ 0  0  0  0  0  0  1  1  1  1  0  0  0  0  0  0]\n",
      " [ 0  0  0  0  1  1  1  1  1  1  1  1  0  0  0  0]\n",
      " [ 0  0  0  1  1  1  1  1  1  1  1  1  1  0  0  0]\n",
      " [ 0  0  0  1  1 -1 -1  1  1 -1 -1  1  1  0  0  0]\n",
      " [ 0  0  1  1 -1  1 -1  1 -1  1 -1  1  1  1  0  0]\n",
      " [ 0  0  1  1 -1 -1 -1  1 -1 -1 -1  1  1  1  0  0]\n",
      " [ 0  0  1  1  1  1  1  1  1  1  1  1  1  1  0  0]\n",
      " [ 0  0  1  1 -1  1  1  1  1  1  1 -1  1  1  0  0]\n",
      " [ 0  0  1  1 -1 -1  1  1  1  1 -1 -1  1  1  0  0]\n",
      " [ 0  0  0  1  1 -1 -1 -1 -1 -1 -1  1  1  0  0  0]\n",
      " [ 0  0  0  0  1  1 -1 -1 -1 -1  1  1  0  0  0  0]\n",
      " [ 0  0  0  0  0  1  1  1  1  1  1  0  0  0  0  0]\n",
      " [ 0  0  0  0  0  0  0  1  1  0  0  0  0  0  0  0]\n",
      " [ 0  0  0  0  0  0  0  0  0  0  0  0  0  0  0  0]]\n"
     ]
    }
   ],
   "source": [
    "print(diffImage)"
   ]
  },
  {
   "cell_type": "code",
   "execution_count": 9,
   "metadata": {},
   "outputs": [],
   "source": [
    "for j in range(0,16):\n",
    "    for i in range(0,16):\n",
    "        if(diffImage[j][i] > 0):\n",
    "            putPixel(i,j,pixelSize,'orange')\n",
    "        else:\n",
    "            putPixel(i,j,pixelSize,'white')"
   ]
  },
  {
   "cell_type": "code",
   "execution_count": 10,
   "metadata": {},
   "outputs": [],
   "source": [
    "turtle.exitonclick()"
   ]
  }
 ],
 "metadata": {
  "kernelspec": {
   "display_name": "Python 3",
   "language": "python",
   "name": "python3"
  },
  "language_info": {
   "codemirror_mode": {
    "name": "ipython",
    "version": 3
   },
   "file_extension": ".py",
   "mimetype": "text/x-python",
   "name": "python",
   "nbconvert_exporter": "python",
   "pygments_lexer": "ipython3",
   "version": "3.8.5"
  }
 },
 "nbformat": 4,
 "nbformat_minor": 4
}
