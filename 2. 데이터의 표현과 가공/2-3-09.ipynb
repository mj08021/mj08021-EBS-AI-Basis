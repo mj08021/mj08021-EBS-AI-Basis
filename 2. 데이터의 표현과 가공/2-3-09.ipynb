{
 "cells": [
  {
   "cell_type": "code",
   "execution_count": 1,
   "metadata": {},
   "outputs": [],
   "source": [
    "import numpy as np\n",
    "import scipy.io as sio\n",
    "from scipy.io.wavfile import write\n",
    "import os"
   ]
  },
  {
   "cell_type": "code",
   "execution_count": 2,
   "metadata": {
    "scrolled": true
   },
   "outputs": [],
   "source": [
    "v_samplerate, v_data = sio.wavfile.read('snd_signal.wav')\n",
    "b_samplerate, b_data = sio.wavfile.read('snd_noise.wav')"
   ]
  },
  {
   "cell_type": "code",
   "execution_count": 3,
   "metadata": {},
   "outputs": [],
   "source": [
    "v_times = np.arange(len(v_data)) / float(v_samplerate)\n",
    "b_times = np.arange(len(b_data)) / float(b_samplerate)"
   ]
  },
  {
   "cell_type": "code",
   "execution_count": null,
   "metadata": {},
   "outputs": [],
   "source": [
    "# stereo channel을 mono channel로 변경\n",
    "if(len(v_data.shape)>1):\n",
    "    v_data = np.array(v_data[:,0])\n",
    "if(len(b_data.shape)>1):\n",
    "    b_data = np.array(b_data[:,0])"
   ]
  },
  {
   "cell_type": "code",
   "execution_count": 5,
   "metadata": {},
   "outputs": [],
   "source": [
    "# downsampling: 2개의 소리 데이터 샘플링 주파수 중 더 낮은 샘플링 주파수 값으로 변경\n",
    "if(v_samplerate > b_samplerate):\n",
    "    diffRate = int(v_samplerate / b_samplerate)\n",
    "    v_data = np.array(v_data[0:len(v_data):diffRate])\n",
    "    sr = b_samplerate\n",
    "elif(v_samplerate < b_samplerate):\n",
    "    diffRate = int(b_samplerate / v_samplerate)\n",
    "    b_data = np.array(b_data[0:len(b_data):diffRate])\n",
    "    sr = v_samplerate\n",
    "else:\n",
    "    sr = b_samplerate"
   ]
  },
  {
   "cell_type": "code",
   "execution_count": null,
   "metadata": {},
   "outputs": [],
   "source": [
    "# 10초 지점의 배경 음악과 음성 데이터 합성하기\n",
    "mix_data = v_data + b_data[sr * 10:len(v_data) + sr * 10]"
   ]
  },
  {
   "cell_type": "code",
   "execution_count": null,
   "metadata": {},
   "outputs": [],
   "source": [
    "# 배경 음악 10초 위치에 합성한 데이터를 넣기\n",
    "b_data[sr*10:len(v_data)+sr*10] = mix_data"
   ]
  },
  {
   "cell_type": "code",
   "execution_count": null,
   "metadata": {},
   "outputs": [],
   "source": [
    "# 합성한 데이터를 wav 파일로 저장하기\n",
    "scaled = np.int16(b_data/np.max(np.abs(b_data))*32767)\n",
    "write('music_card.wav', sr, scaled)\n",
    "os.system('start music_card.wav')"
   ]
  },
  {
   "cell_type": "code",
   "execution_count": null,
   "metadata": {},
   "outputs": [],
   "source": []
  }
 ],
 "metadata": {
  "kernelspec": {
   "display_name": "Python 3",
   "language": "python",
   "name": "python3"
  },
  "language_info": {
   "codemirror_mode": {
    "name": "ipython",
    "version": 3
   },
   "file_extension": ".py",
   "mimetype": "text/x-python",
   "name": "python",
   "nbconvert_exporter": "python",
   "pygments_lexer": "ipython3",
   "version": "3.8.5"
  }
 },
 "nbformat": 4,
 "nbformat_minor": 4
}
