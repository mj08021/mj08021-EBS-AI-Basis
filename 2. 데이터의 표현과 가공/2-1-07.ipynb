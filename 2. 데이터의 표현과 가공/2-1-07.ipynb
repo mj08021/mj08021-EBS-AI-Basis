{
 "cells": [
  {
   "cell_type": "code",
   "execution_count": 1,
   "metadata": {},
   "outputs": [],
   "source": [
    "import csv"
   ]
  },
  {
   "cell_type": "code",
   "execution_count": 2,
   "metadata": {},
   "outputs": [],
   "source": [
    "a = [[], [], [], [], [], [], []]"
   ]
  },
  {
   "cell_type": "code",
   "execution_count": 3,
   "metadata": {},
   "outputs": [],
   "source": [
    "with open('passby_data.CSV', 'r') as f:\n",
    "    reader = csv.DictReader(f)\n",
    "    i = j = 0\n",
    "    for row in reader :\n",
    "        a[i].append(row)\n",
    "        j = j + 1\n",
    "        if(j % 24 == 0):\n",
    "            i = i + 1"
   ]
  },
  {
   "cell_type": "code",
   "execution_count": 4,
   "metadata": {},
   "outputs": [],
   "source": [
    "day_title = ['MON', 'TUE', 'WED', 'THR', 'FRI', 'SAT', 'SUN']"
   ]
  },
  {
   "cell_type": "code",
   "execution_count": 5,
   "metadata": {},
   "outputs": [],
   "source": [
    "hour_title = ['01', '02', '03', '04', '05', \n",
    "              '06', '07', '08', '09', '10', \n",
    "              '11', '12', '13', '14', '15', \n",
    "              '16', '17', '18', '19', '20', \n",
    "              '21', '22', '23', '24', ]"
   ]
  },
  {
   "cell_type": "code",
   "execution_count": 6,
   "metadata": {},
   "outputs": [],
   "source": [
    "#시간대별로 주각 평균 구하기"
   ]
  },
  {
   "cell_type": "code",
   "execution_count": 7,
   "metadata": {},
   "outputs": [],
   "source": [
    "avgh = []"
   ]
  },
  {
   "cell_type": "code",
   "execution_count": 9,
   "metadata": {},
   "outputs": [],
   "source": [
    "for j in range(0, 24):\n",
    "    day_sum = 0\n",
    "    #j번째 시간대 주간 총합\n",
    "    for i in range(0, 7):\n",
    "        day_sum = day_sum + int(a[i][j]['num'])\n",
    "    avgh.append(day_sum/7)"
   ]
  },
  {
   "cell_type": "code",
   "execution_count": 17,
   "metadata": {},
   "outputs": [
    {
     "name": "stdout",
     "output_type": "stream",
     "text": [
      "[~01:00]:   1\n",
      "[~02:00]:   0\n",
      "[~03:00]:   0\n",
      "[~04:00]:   0\n",
      "[~05:00]:   0\n",
      "[~06:00]:   2\n",
      "[~07:00]:   2\n",
      "[~08:00]:  12\n",
      "[~09:00]:  16\n",
      "[~10:00]:  10\n",
      "[~11:00]:   3\n",
      "[~12:00]:  19\n",
      "[~13:00]:  17\n",
      "[~14:00]:   7\n",
      "[~15:00]:   9\n",
      "[~16:00]:  12\n",
      "[~17:00]:   9\n",
      "[~18:00]:   8\n",
      "[~19:00]:  17\n",
      "[~20:00]:  15\n",
      "[~21:00]:  11\n",
      "[~22:00]:   5\n",
      "[~23:00]:   6\n",
      "[~24:00]:   4\n"
     ]
    }
   ],
   "source": [
    "#시간대별 평균 유동 인구 출력하기\n",
    "for j in range(0, 24):\n",
    "    print('[~{0}:00]:{1:4}'.format(hour_title[j], int(avgh[j])))"
   ]
  }
 ],
 "metadata": {
  "kernelspec": {
   "display_name": "Python 3",
   "language": "python",
   "name": "python3"
  },
  "language_info": {
   "codemirror_mode": {
    "name": "ipython",
    "version": 3
   },
   "file_extension": ".py",
   "mimetype": "text/x-python",
   "name": "python",
   "nbconvert_exporter": "python",
   "pygments_lexer": "ipython3",
   "version": "3.8.5"
  }
 },
 "nbformat": 4,
 "nbformat_minor": 4
}
