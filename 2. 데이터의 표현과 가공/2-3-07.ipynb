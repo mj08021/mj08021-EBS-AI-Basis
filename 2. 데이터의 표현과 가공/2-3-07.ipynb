{
 "cells": [
  {
   "cell_type": "code",
   "execution_count": 1,
   "metadata": {},
   "outputs": [],
   "source": [
    "import numpy as np\n",
    "import scipy.io as sio\n",
    "from scipy.io.wavfile import write\n",
    "import os"
   ]
  },
  {
   "cell_type": "code",
   "execution_count": 2,
   "metadata": {
    "scrolled": true
   },
   "outputs": [],
   "source": [
    "v_samplerate, v_data = sio.wavfile.read('Second_Run.wav')\n",
    "b_samplerate, b_data = sio.wavfile.read('Third_Run.wav')"
   ]
  },
  {
   "cell_type": "code",
   "execution_count": 3,
   "metadata": {},
   "outputs": [],
   "source": [
    "v_times = np.arange(len(v_data)) / float(v_samplerate)\n",
    "b_times = np.arange(len(b_data)) / float(b_samplerate)"
   ]
  },
  {
   "cell_type": "code",
   "execution_count": 4,
   "metadata": {},
   "outputs": [
    {
     "name": "stdout",
     "output_type": "stream",
     "text": [
      "sampling rate :  44100 44100\n",
      "time :  116.87181405895691 288.4963038548753\n",
      "len :  5154048 12722688\n"
     ]
    }
   ],
   "source": [
    "print('sampling rate : ', v_samplerate, b_samplerate)\n",
    "print('time : ', v_times[-1], b_times[-1])\n",
    "print('len : ', len(v_data), len(b_data))"
   ]
  },
  {
   "cell_type": "code",
   "execution_count": 5,
   "metadata": {},
   "outputs": [
    {
     "name": "stdout",
     "output_type": "stream",
     "text": [
      "(5154048, 2)\n",
      "(12722688, 2)\n"
     ]
    }
   ],
   "source": [
    "print(v_data.shape)\n",
    "print(b_data.shape)"
   ]
  },
  {
   "cell_type": "code",
   "execution_count": null,
   "metadata": {},
   "outputs": [],
   "source": []
  }
 ],
 "metadata": {
  "kernelspec": {
   "display_name": "Python 3",
   "language": "python",
   "name": "python3"
  },
  "language_info": {
   "codemirror_mode": {
    "name": "ipython",
    "version": 3
   },
   "file_extension": ".py",
   "mimetype": "text/x-python",
   "name": "python",
   "nbconvert_exporter": "python",
   "pygments_lexer": "ipython3",
   "version": "3.8.5"
  }
 },
 "nbformat": 4,
 "nbformat_minor": 4
}
