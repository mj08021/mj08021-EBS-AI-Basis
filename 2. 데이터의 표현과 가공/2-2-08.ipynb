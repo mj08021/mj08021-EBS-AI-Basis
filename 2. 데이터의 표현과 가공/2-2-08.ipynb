{
 "cells": [
  {
   "cell_type": "code",
   "execution_count": 1,
   "metadata": {},
   "outputs": [],
   "source": [
    "# 외부 모듈 읽어오기\n",
    "import numpy as np\n",
    "import matplotlib.pyplot as plt\n",
    "import PIL.Image as pilimg"
   ]
  },
  {
   "cell_type": "code",
   "execution_count": 2,
   "metadata": {},
   "outputs": [],
   "source": [
    "# image file 읽어오기\n",
    "im1 = pilimg.open('1.jpg')\n",
    "im2 = pilimg.open('2.jpg')\n",
    "im3 = pilimg.open('3.jpg')"
   ]
  },
  {
   "cell_type": "code",
   "execution_count": 3,
   "metadata": {},
   "outputs": [],
   "source": [
    "pix1 = np.array(im1)  # 이미지 데이터를 numpy array로 구성"
   ]
  },
  {
   "cell_type": "code",
   "execution_count": 4,
   "metadata": {},
   "outputs": [],
   "source": [
    "# 사진을 이어붙이기 위해 배경 이미지 크기에 맞추어 변경할 크기 계산하기\n",
    "# 만약 배경 화면의 가로 크기가 홀수이면 첫 번째 이미지의 가로 크기를 반올림하기\n",
    "resizeX2 = pix1.shape[1]/2\n",
    "if(pix1.shape[1] % 2 > 0):\n",
    "    resizeX1 = pix1.shape[1] / 2 + 1  # 홀수인 경우\n",
    "else:\n",
    "    resizeX1 = pix1.shape[1] / 2  # 짝수인 경우"
   ]
  },
  {
   "cell_type": "code",
   "execution_count": 5,
   "metadata": {},
   "outputs": [],
   "source": [
    "# 사진 2장을 나란히 붙이기 위해 배경 이미지 크기의 절반씩 차지하도록 크기 변경하기\n",
    "im2 = im2.resize((int(resizeX1), int(pix1.shape[0])))\n",
    "pix2 = np.array(im2)\n",
    "im3 = im3.resize((int(resizeX2), int(pix1.shape[0])))\n",
    "pix3 = np.array(im3)"
   ]
  },
  {
   "cell_type": "code",
   "execution_count": 6,
   "metadata": {},
   "outputs": [],
   "source": [
    "# 사진 2개를 가로 방향을 기준으로 나란히 붙이기 (axis값을 0으로 하면 세로로 설정됨.)\n",
    "pix4 = np.concatenate((pix2, pix3), axis = 1)  # concatenate() 함수의 axis 인자를 0으로 전달하면 세로방향, 1로 전달하면 가로 방향으로 이미지를 붙인다."
   ]
  },
  {
   "cell_type": "code",
   "execution_count": 7,
   "metadata": {},
   "outputs": [],
   "source": [
    "# 이미지를 블랜딩하기 위해 각 픽셀의 RGB값을 (0~1)의 실수 범위로 정규화(normalize)\n",
    "pix1 = (1/255) * pix1\n",
    "pix4 = (1/255) * pix4"
   ]
  },
  {
   "cell_type": "code",
   "execution_count": 8,
   "metadata": {},
   "outputs": [],
   "source": [
    "# 가중치 정하기(배경 이미지를 30% 다른 이미지 두개를 70%로 합성)\n",
    "weight = 0.3"
   ]
  },
  {
   "cell_type": "code",
   "execution_count": 9,
   "metadata": {},
   "outputs": [],
   "source": [
    "# 가중치를 적용하기 위해 원본 이미지 행렬에 가중치를 실수배하여 합하기\n",
    "pix5 = pix1 * weight + pix4 * (1 - weight)"
   ]
  },
  {
   "cell_type": "code",
   "execution_count": 10,
   "metadata": {},
   "outputs": [],
   "source": [
    "# 두 원본 이미지의 가중치를 반대로 적용한 이미지 생성하기\n",
    "pix6 = pix1 * (1 - weight) + pix4 * weight"
   ]
  },
  {
   "cell_type": "code",
   "execution_count": 11,
   "metadata": {},
   "outputs": [],
   "source": [
    "pix5 = pix5 * 255  # 합성한 이미지를 RGB 값을 적용하여 저장하기"
   ]
  },
  {
   "cell_type": "code",
   "execution_count": 12,
   "metadata": {},
   "outputs": [],
   "source": [
    "im5 = pilimg.fromarray(pix5.astype(np.uint8))  # 8bit unsigned integer로 인식하여 이미지 생성"
   ]
  },
  {
   "cell_type": "code",
   "execution_count": 13,
   "metadata": {},
   "outputs": [],
   "source": [
    "im5.save('BlendedPic_70.png')"
   ]
  },
  {
   "cell_type": "code",
   "execution_count": 14,
   "metadata": {},
   "outputs": [],
   "source": [
    "pix6 = pix6 * 255"
   ]
  },
  {
   "cell_type": "code",
   "execution_count": 15,
   "metadata": {},
   "outputs": [],
   "source": [
    "im6 = pilimg.fromarray(pix6.astype(np.uint8))"
   ]
  },
  {
   "cell_type": "code",
   "execution_count": 16,
   "metadata": {},
   "outputs": [],
   "source": [
    "im6.save('BlendedPic_30.png')"
   ]
  }
 ],
 "metadata": {
  "kernelspec": {
   "display_name": "Python 3",
   "language": "python",
   "name": "python3"
  },
  "language_info": {
   "codemirror_mode": {
    "name": "ipython",
    "version": 3
   },
   "file_extension": ".py",
   "mimetype": "text/x-python",
   "name": "python",
   "nbconvert_exporter": "python",
   "pygments_lexer": "ipython3",
   "version": "3.8.5"
  }
 },
 "nbformat": 4,
 "nbformat_minor": 4
}
