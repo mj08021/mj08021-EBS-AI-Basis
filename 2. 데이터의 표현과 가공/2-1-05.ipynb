{
 "cells": [
  {
   "cell_type": "code",
   "execution_count": 1,
   "metadata": {},
   "outputs": [],
   "source": [
    "#dictionary: 요일별로 각 시간대에 저장할 데이터 {num, wnum, ynum}"
   ]
  },
  {
   "cell_type": "code",
   "execution_count": 2,
   "metadata": {},
   "outputs": [],
   "source": [
    "#7X24 크기의 리스트 필요"
   ]
  },
  {
   "cell_type": "code",
   "execution_count": 3,
   "metadata": {},
   "outputs": [],
   "source": [
    "a1 = []"
   ]
  },
  {
   "cell_type": "code",
   "execution_count": 4,
   "metadata": {},
   "outputs": [],
   "source": [
    "a1.append({'num':0, 'wnum':0, 'ynum':0})"
   ]
  },
  {
   "cell_type": "code",
   "execution_count": 5,
   "metadata": {},
   "outputs": [],
   "source": [
    "a1.append({'num':0, 'wnum':0, 'ynum':0})"
   ]
  },
  {
   "cell_type": "code",
   "execution_count": 6,
   "metadata": {},
   "outputs": [],
   "source": [
    "a1.append({'num':0, 'wnum':0, 'ynum':0})"
   ]
  },
  {
   "cell_type": "code",
   "execution_count": 7,
   "metadata": {},
   "outputs": [],
   "source": [
    "a1.append({'num':0, 'wnum':0, 'ynum':0})"
   ]
  },
  {
   "cell_type": "code",
   "execution_count": 8,
   "metadata": {},
   "outputs": [],
   "source": [
    "a1.append({'num':0, 'wnum':0, 'ynum':0})"
   ]
  },
  {
   "cell_type": "code",
   "execution_count": 9,
   "metadata": {},
   "outputs": [],
   "source": [
    "a1.append({'num':7, 'wnum':5, 'ynum':6})"
   ]
  },
  {
   "cell_type": "code",
   "execution_count": 10,
   "metadata": {},
   "outputs": [],
   "source": [
    "a1.append({'num':4, 'wnum':1, 'ynum':3})"
   ]
  },
  {
   "cell_type": "code",
   "execution_count": 11,
   "metadata": {},
   "outputs": [],
   "source": [
    "a1.append({'num':20, 'wnum':1, 'ynum':16})"
   ]
  },
  {
   "cell_type": "code",
   "execution_count": 12,
   "metadata": {},
   "outputs": [],
   "source": [
    "a1.append({'num':22, 'wnum':0, 'ynum':16})"
   ]
  },
  {
   "cell_type": "code",
   "execution_count": 13,
   "metadata": {},
   "outputs": [],
   "source": [
    "a1.append({'num':17, 'wnum':4, 'ynum':16})"
   ]
  },
  {
   "cell_type": "code",
   "execution_count": 14,
   "metadata": {},
   "outputs": [],
   "source": [
    "a1.append({'num':5, 'wnum':1, 'ynum':5})"
   ]
  },
  {
   "cell_type": "code",
   "execution_count": 15,
   "metadata": {},
   "outputs": [],
   "source": [
    "a1.append({'num':13, 'wnum':5, 'ynum':13})"
   ]
  },
  {
   "cell_type": "code",
   "execution_count": 16,
   "metadata": {},
   "outputs": [],
   "source": [
    "a1.append({'num':19, 'wnum':11, 'ynum':18})"
   ]
  },
  {
   "cell_type": "code",
   "execution_count": 17,
   "metadata": {},
   "outputs": [],
   "source": [
    "a1.append({'num':9, 'wnum':5, 'ynum':1})"
   ]
  },
  {
   "cell_type": "code",
   "execution_count": 18,
   "metadata": {},
   "outputs": [],
   "source": [
    "a1.append({'num':14, 'wnum':10, 'ynum':4})"
   ]
  },
  {
   "cell_type": "code",
   "execution_count": 19,
   "metadata": {},
   "outputs": [],
   "source": [
    "a1.append({'num':18, 'wnum':16, 'ynum':4})"
   ]
  },
  {
   "cell_type": "code",
   "execution_count": 20,
   "metadata": {},
   "outputs": [],
   "source": [
    "a1.append({'num':15, 'wnum':13, 'ynum':2})"
   ]
  },
  {
   "cell_type": "code",
   "execution_count": 21,
   "metadata": {},
   "outputs": [],
   "source": [
    "a1.append({'num':13, 'wnum':5, 'ynum':10})"
   ]
  },
  {
   "cell_type": "code",
   "execution_count": 22,
   "metadata": {},
   "outputs": [],
   "source": [
    "a1.append({'num':18, 'wnum':13, 'ynum':14})"
   ]
  },
  {
   "cell_type": "code",
   "execution_count": 23,
   "metadata": {},
   "outputs": [],
   "source": [
    "a1.append({'num':16, 'wnum':16, 'ynum':13})"
   ]
  },
  {
   "cell_type": "code",
   "execution_count": 24,
   "metadata": {},
   "outputs": [],
   "source": [
    "a1.append({'num':8, 'wnum':5, 'ynum':7})"
   ]
  },
  {
   "cell_type": "code",
   "execution_count": 25,
   "metadata": {},
   "outputs": [],
   "source": [
    "a1.append({'num':10, 'wnum':8, 'ynum':7})"
   ]
  },
  {
   "cell_type": "code",
   "execution_count": 26,
   "metadata": {},
   "outputs": [],
   "source": [
    "a1.append({'num':10, 'wnum':8, 'ynum':10})"
   ]
  },
  {
   "cell_type": "code",
   "execution_count": 27,
   "metadata": {},
   "outputs": [],
   "source": [
    "a1.append({'num':4, 'wnum':0, 'ynum':3})"
   ]
  },
  {
   "cell_type": "code",
   "execution_count": 28,
   "metadata": {},
   "outputs": [],
   "source": [
    "a2 = []"
   ]
  },
  {
   "cell_type": "code",
   "execution_count": 29,
   "metadata": {},
   "outputs": [],
   "source": [
    "a2.append({'num':0, 'wnum':0, 'ynum':0})"
   ]
  },
  {
   "cell_type": "code",
   "execution_count": 30,
   "metadata": {},
   "outputs": [],
   "source": [
    "a = [a1, a2]"
   ]
  },
  {
   "cell_type": "code",
   "execution_count": 31,
   "metadata": {},
   "outputs": [],
   "source": [
    "#2차원 리스트의 첫 번째 리스트 출력하기"
   ]
  },
  {
   "cell_type": "code",
   "execution_count": 32,
   "metadata": {},
   "outputs": [
    {
     "name": "stdout",
     "output_type": "stream",
     "text": [
      "MON[ 0 ] =  {'num': 0, 'wnum': 0, 'ynum': 0}\n",
      "MON[ 1 ] =  {'num': 0, 'wnum': 0, 'ynum': 0}\n",
      "MON[ 2 ] =  {'num': 0, 'wnum': 0, 'ynum': 0}\n",
      "MON[ 3 ] =  {'num': 0, 'wnum': 0, 'ynum': 0}\n",
      "MON[ 4 ] =  {'num': 0, 'wnum': 0, 'ynum': 0}\n",
      "MON[ 5 ] =  {'num': 7, 'wnum': 5, 'ynum': 6}\n",
      "MON[ 6 ] =  {'num': 4, 'wnum': 1, 'ynum': 3}\n",
      "MON[ 7 ] =  {'num': 20, 'wnum': 1, 'ynum': 16}\n",
      "MON[ 8 ] =  {'num': 22, 'wnum': 0, 'ynum': 16}\n",
      "MON[ 9 ] =  {'num': 17, 'wnum': 4, 'ynum': 16}\n",
      "MON[ 10 ] =  {'num': 5, 'wnum': 1, 'ynum': 5}\n",
      "MON[ 11 ] =  {'num': 13, 'wnum': 5, 'ynum': 13}\n",
      "MON[ 12 ] =  {'num': 19, 'wnum': 11, 'ynum': 18}\n",
      "MON[ 13 ] =  {'num': 9, 'wnum': 5, 'ynum': 1}\n",
      "MON[ 14 ] =  {'num': 14, 'wnum': 10, 'ynum': 4}\n",
      "MON[ 15 ] =  {'num': 18, 'wnum': 16, 'ynum': 4}\n",
      "MON[ 16 ] =  {'num': 15, 'wnum': 13, 'ynum': 2}\n",
      "MON[ 17 ] =  {'num': 13, 'wnum': 5, 'ynum': 10}\n",
      "MON[ 18 ] =  {'num': 18, 'wnum': 13, 'ynum': 14}\n",
      "MON[ 19 ] =  {'num': 16, 'wnum': 16, 'ynum': 13}\n",
      "MON[ 20 ] =  {'num': 8, 'wnum': 5, 'ynum': 7}\n",
      "MON[ 21 ] =  {'num': 10, 'wnum': 8, 'ynum': 7}\n",
      "MON[ 22 ] =  {'num': 10, 'wnum': 8, 'ynum': 10}\n",
      "MON[ 23 ] =  {'num': 4, 'wnum': 0, 'ynum': 3}\n"
     ]
    }
   ],
   "source": [
    "for i in range(0, len(a[0])):\n",
    "    print('MON[', i, '] = ', a[0][i])"
   ]
  }
 ],
 "metadata": {
  "kernelspec": {
   "display_name": "Python 3",
   "language": "python",
   "name": "python3"
  },
  "language_info": {
   "codemirror_mode": {
    "name": "ipython",
    "version": 3
   },
   "file_extension": ".py",
   "mimetype": "text/x-python",
   "name": "python",
   "nbconvert_exporter": "python",
   "pygments_lexer": "ipython3",
   "version": "3.8.5"
  }
 },
 "nbformat": 4,
 "nbformat_minor": 4
}
