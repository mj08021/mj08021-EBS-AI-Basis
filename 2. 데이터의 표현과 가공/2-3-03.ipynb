{
 "cells": [
  {
   "cell_type": "code",
   "execution_count": 1,
   "metadata": {},
   "outputs": [],
   "source": [
    "import numpy as np  # 행렬 및 벡터 데이터 관리를 위한 numpy 모듈\n",
    "import matplotlib.pyplot as plt  # 소리 데이터의 그래프 표현을 위한 모듈\n",
    "from scipy.io.wavfile import write  # wav 형식으로 소리 데이터를 저장하기 위한 모듈\n",
    "import os"
   ]
  },
  {
   "cell_type": "code",
   "execution_count": 2,
   "metadata": {},
   "outputs": [],
   "source": [
    "# sampling rate\n",
    "Fs = 44100.0  # 정보 샘플링 주파수. 1초에 44100개의 샘플링, 단위는 Hz(주파수)"
   ]
  },
  {
   "cell_type": "code",
   "execution_count": 3,
   "metadata": {},
   "outputs": [],
   "source": [
    "# 1초 데이터 생성을 위한 환경 변수 설정\n",
    "tlen = 1  # 1초로 초기화\n",
    "Ts = 1 / Fs  # 샘플링 사이의 간격(시간) 계산\n",
    "t = np.arange(0, tlen, Ts)  # 소리 데이터를 생성할 시간 성분으로 구성된 배열로\n",
    "                             # 0과 1 사이를 Ts(TimeStamp)의 간격으로 분활하여\n",
    "                             # Fs 개의 데이터를 담을 수 있는 배열 t를 생성"
   ]
  },
  {
   "cell_type": "code",
   "execution_count": 4,
   "metadata": {},
   "outputs": [],
   "source": [
    "# 시그널 생성하기\n",
    "sin_freq = 440  # 사인 곡선의 주파수\n",
    "src = 2 * np.pi * sin_freq * t\n",
    "\n",
    "signal = np.sin(src)"
   ]
  },
  {
   "cell_type": "code",
   "execution_count": 5,
   "metadata": {},
   "outputs": [],
   "source": [
    "# 시안함수로 생성한 음성 데이터를 wav 형식의 파일로 저장\n",
    "scaled = np.int16(signal/np.max(np.abs(signal)) * 32767)\n",
    "write('snd_signal.wav', 44100, scaled)\n"
   ]
  },
  {
   "cell_type": "code",
   "execution_count": null,
   "metadata": {},
   "outputs": [],
   "source": []
  }
 ],
 "metadata": {
  "kernelspec": {
   "display_name": "Python 3",
   "language": "python",
   "name": "python3"
  },
  "language_info": {
   "codemirror_mode": {
    "name": "ipython",
    "version": 3
   },
   "file_extension": ".py",
   "mimetype": "text/x-python",
   "name": "python",
   "nbconvert_exporter": "python",
   "pygments_lexer": "ipython3",
   "version": "3.8.5"
  }
 },
 "nbformat": 4,
 "nbformat_minor": 4
}
